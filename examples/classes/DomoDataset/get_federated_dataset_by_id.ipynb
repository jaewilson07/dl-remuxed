{
 "cells": [
  {
   "cell_type": "code",
   "execution_count": 1,
   "id": "ea429c2b",
   "metadata": {},
   "outputs": [
    {
     "name": "stdout",
     "output_type": "stream",
     "text": [
      "Note: you may need to restart the kernel to use updated packages.\n"
     ]
    },
    {
     "name": "stderr",
     "output_type": "stream",
     "text": [
      "c:\\GitHub\\dl2\\.venv\\Scripts\\python.exe: No module named pip\n"
     ]
    }
   ],
   "source": [
    "%pip install -e ../../src/domolibrary2"
   ]
  },
  {
   "cell_type": "code",
   "execution_count": 2,
   "id": "ca48a6fd",
   "metadata": {},
   "outputs": [],
   "source": [
    "import domolibrary2.classes.DomoDataset as dmds\n",
    "\n",
    "import domolibrary2.client.auth as dmda\n",
    "import os\n",
    "\n",
    "from dotenv import load_dotenv\n",
    "\n",
    "assert load_dotenv(override=True)\n"
   ]
  },
  {
   "cell_type": "code",
   "execution_count": null,
   "id": "30c74b67",
   "metadata": {},
   "outputs": [
    {
     "name": "stdout",
     "output_type": "stream",
     "text": [
      "[2025-10-31T16:31:40.569572Z] INFO - get_data completed (action=get_data, status=success, duration=383ms)\n",
      "[2025-10-31T16:31:40.569760Z] INFO - who_am_i completed (action=who_am_i, status=success, duration=383ms)\n",
      "[2025-10-31T16:31:40.570010Z] INFO - _DomoAuth_Optional.who_am_i completed (action=_DomoAuth_Optional.who_am_i, status=success, duration=384ms)\n"
     ]
    },
    {
     "ename": "TypeError",
     "evalue": "DomoDataset_Default.get_by_id() got multiple values for argument 'auth'",
     "output_type": "error",
     "traceback": [
      "\u001b[31m---------------------------------------------------------------------------\u001b[39m",
      "\u001b[31mTypeError\u001b[39m                                 Traceback (most recent call last)",
      "\u001b[36mCell\u001b[39m\u001b[36m \u001b[39m\u001b[32mIn[3]\u001b[39m\u001b[32m, line 8\u001b[39m\n\u001b[32m      1\u001b[39m child_auth = dmda.DomoTokenAuth(\n\u001b[32m      2\u001b[39m     domo_instance=os.environ[\u001b[33m\"\u001b[39m\u001b[33mDOMO_CHILD_INSTANCE\u001b[39m\u001b[33m\"\u001b[39m],\n\u001b[32m      3\u001b[39m     domo_access_token=os.environ[\u001b[33m\"\u001b[39m\u001b[33mDOMO_CHILD_ACCESS_TOKEN\u001b[39m\u001b[33m\"\u001b[39m],\n\u001b[32m      4\u001b[39m )\n\u001b[32m      6\u001b[39m \u001b[38;5;28;01mawait\u001b[39;00m child_auth.who_am_i()\n\u001b[32m----> \u001b[39m\u001b[32m8\u001b[39m child_ds: dmds.FederatedDomoDataset = \u001b[38;5;28;01mawait\u001b[39;00m \u001b[43mdmds\u001b[49m\u001b[43m.\u001b[49m\u001b[43mDomoDataset\u001b[49m\u001b[43m.\u001b[49m\u001b[43mget_by_id\u001b[49m\u001b[43m(\u001b[49m\n\u001b[32m      9\u001b[39m \u001b[43m    \u001b[49m\u001b[43mos\u001b[49m\u001b[43m.\u001b[49m\u001b[43menviron\u001b[49m\u001b[43m[\u001b[49m\u001b[33;43m\"\u001b[39;49m\u001b[33;43mCHILD_DATASET_ID\u001b[39;49m\u001b[33;43m\"\u001b[39;49m\u001b[43m]\u001b[49m\u001b[43m,\u001b[49m\u001b[43m \u001b[49m\u001b[43mauth\u001b[49m\u001b[43m=\u001b[49m\u001b[43mchild_auth\u001b[49m\n\u001b[32m     10\u001b[39m \u001b[43m)\u001b[49m\n\u001b[32m     11\u001b[39m child_ds\n",
      "\u001b[31mTypeError\u001b[39m: DomoDataset_Default.get_by_id() got multiple values for argument 'auth'"
     ]
    }
   ],
   "source": [
    "\n",
    "child_auth = dmda.DomoTokenAuth(\n",
    "    domo_instance=os.environ[\"DOMO_CHILD_INSTANCE\"],\n",
    "    domo_access_token=os.environ[\"DOMO_CHILD_ACCESS_TOKEN\"],\n",
    ")\n",
    "\n",
    "await child_auth.who_am_i()\n",
    "\n",
    "child_ds: dmds.FederatedDomoDataset = await dmds.DomoDataset.get_by_id(\n",
    "    dataset_id = os.environ[\"CHILD_DATASET_ID\"], auth=child_auth\n",
    ")\n",
    "child_ds"
   ]
  },
  {
   "cell_type": "code",
   "execution_count": null,
   "id": "af517b74",
   "metadata": {},
   "outputs": [],
   "source": [
    "\n",
    "parent_auth = dmda.DomoTokenAuth(\n",
    "    domo_instance=os.environ[\"DOMO_PARENT_INSTANCE\"],\n",
    "    domo_access_token=os.environ[\"DOMO_PARENT_ACCESS_TOKEN\"],\n",
    ")\n",
    "\n",
    "assert await parent_auth.who_am_i()\n",
    "\n",
    "parent_ds: dmds.DomoDataset = await child_ds.get_federated_parent(\n",
    "    parent_auth=parent_auth\n",
    ")\n",
    "\n",
    "parent_ds"
   ]
  },
  {
   "cell_type": "code",
   "execution_count": null,
   "id": "0607436c",
   "metadata": {},
   "outputs": [],
   "source": [
    "await child_ds.Lineage.get(parent_auth = parent_auth, is_recursive=True)"
   ]
  },
  {
   "cell_type": "code",
   "execution_count": null,
   "id": "c15b22f9",
   "metadata": {},
   "outputs": [],
   "source": [
    "child_ds.Lineage.lineage"
   ]
  },
  {
   "cell_type": "code",
   "execution_count": null,
   "id": "d88b5973",
   "metadata": {},
   "outputs": [],
   "source": [
    "import domolibrary2.classes.DomoCard as dmdc\n",
    "child_card = await dmdc.DomoCard.get_by_id(\n",
    "        card_id = os.environ[\"CHILD_CARD_ID\"], \n",
    "        auth=child_auth\n",
    "    )"
   ]
  },
  {
   "cell_type": "code",
   "execution_count": null,
   "id": "c7067dee",
   "metadata": {},
   "outputs": [],
   "source": [
    "await child_card.Lineage.get(is_recursive=True)"
   ]
  },
  {
   "cell_type": "code",
   "execution_count": null,
   "id": "dceba5f6",
   "metadata": {},
   "outputs": [],
   "source": [
    "child_ds.Lineage.parent"
   ]
  }
 ],
 "metadata": {
  "kernelspec": {
   "display_name": "dl2",
   "language": "python",
   "name": "python3"
  },
  "language_info": {
   "codemirror_mode": {
    "name": "ipython",
    "version": 3
   },
   "file_extension": ".py",
   "mimetype": "text/x-python",
   "name": "python",
   "nbconvert_exporter": "python",
   "pygments_lexer": "ipython3",
   "version": "3.13.9"
  }
 },
 "nbformat": 4,
 "nbformat_minor": 5
}

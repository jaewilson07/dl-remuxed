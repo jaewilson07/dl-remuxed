{
 "cells": [
  {
   "cell_type": "code",
   "execution_count": null,
   "id": "ed16d45c",
   "metadata": {},
   "outputs": [],
   "source": [
    "\n",
    "import os\n",
    "\n",
    "from dotenv import load_dotenv\n",
    "\n",
    "import domolibrary2.client.auth as dmda\n",
    "\n",
    "assert load_dotenv(override=True)\n",
    "\n",
    "\n",
    "child_auth = dmda.DomoTokenAuth(\n",
    "    domo_instance=os.environ[\"DOMO_CHILD_INSTANCE\"],\n",
    "    domo_access_token=os.environ[\"DOMO_CHILD_ACCESS_TOKEN\"],\n",
    ")\n",
    "\n",
    "child_auth.who_am_i()"
   ]
  }
 ],
 "metadata": {
  "kernelspec": {
   "display_name": "dl2",
   "language": "python",
   "name": "python3"
  },
  "language_info": {
   "codemirror_mode": {
    "name": "ipython",
    "version": 3
   },
   "file_extension": ".py",
   "mimetype": "text/x-python",
   "name": "python",
   "nbconvert_exporter": "python",
   "pygments_lexer": "ipython3",
   "version": "3.13.9"
  }
 },
 "nbformat": 4,
 "nbformat_minor": 5
}

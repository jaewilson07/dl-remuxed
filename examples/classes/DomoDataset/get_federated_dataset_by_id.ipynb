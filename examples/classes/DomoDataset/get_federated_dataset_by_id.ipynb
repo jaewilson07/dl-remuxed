{
 "cells": [
  {
   "cell_type": "code",
   "execution_count": 1,
   "id": "ea429c2b",
   "metadata": {},
   "outputs": [
    {
     "name": "stdout",
     "output_type": "stream",
     "text": [
      "Note: you may need to restart the kernel to use updated packages.\n"
     ]
    },
    {
     "name": "stderr",
     "output_type": "stream",
     "text": [
      "c:\\GitHub\\dl2\\.venv\\Scripts\\python.exe: No module named pip\n"
     ]
    }
   ],
   "source": [
    "%pip install -e ."
   ]
  },
  {
   "cell_type": "code",
   "execution_count": 2,
   "id": "ca48a6fd",
   "metadata": {},
   "outputs": [],
   "source": [
    "import os\n",
    "\n",
    "from dotenv import load_dotenv\n",
    "\n",
    "import domolibrary2.classes.DomoDataset as dmds\n",
    "import domolibrary2.client.auth as dmda\n",
    "\n",
    "assert load_dotenv(override=True)\n"
   ]
  },
  {
   "cell_type": "code",
   "execution_count": 3,
   "id": "30c74b67",
   "metadata": {},
   "outputs": [
    {
     "name": "stdout",
     "output_type": "stream",
     "text": [
      "[2025-10-31T14:14:57.640517Z] INFO - get_data completed (action=get_data, status=success, duration=427ms)\n",
      "[2025-10-31T14:14:57.640671Z] INFO - who_am_i completed (action=who_am_i, status=success, duration=428ms)\n",
      "[2025-10-31T14:14:57.640877Z] INFO - _DomoAuth_Optional.who_am_i completed (action=_DomoAuth_Optional.who_am_i, status=success, duration=429ms)\n",
      "[2025-10-31T14:14:58.176812Z] INFO - get_data completed (action=get_data, status=success, duration=535ms)\n",
      "[2025-10-31T14:14:58.177062Z] INFO - get_dataset_by_id completed (action=get_dataset_by_id, entity=dataset:c62a8fd1-2484-42ec-9235-0674c2e3e0b3, status=success, duration=536ms)\n",
      "[2025-10-31T14:14:58.716978Z] INFO - get_data completed (action=get_data, status=success, duration=539ms)\n"
     ]
    },
    {
     "data": {
      "text/plain": [
       "FederatedDomoDataset(id='c62a8fd1-2484-42ec-9235-0674c2e3e0b3', display_type='domo-federateddata', data_provider_type='domo-federateddata', name='SNOWFLAKE_SAMPLE_DATA.TPCDS_SF100TCL.CALL_CENTER', description='', row_count=60, column_count=31, stream_id=333, cloud_id=None, last_touched_dt=datetime.datetime(2025, 9, 23, 0, 30, 30), last_updated_dt=datetime.datetime(2025, 9, 23, 0, 30, 29, 545000), created_dt=datetime.datetime(2025, 9, 23, 0, 30, 28), owner={'id': '832191625', 'name': 'Christian Antelo', 'type': 'USER', 'group': False}, formulas={}, Data=DomoDataset_Data(parent=...), Schema=DomoDataset_Schema(parent=..., columns=[]), Stream=DomoStream(id=333, parent=..., transport_description=None, transport_version=None, update_method='REPLACE', data_provider_name='Federated Data', data_provider_key='domo-federateddata', account_id=None, account_display_name=None, account_userid=None, has_mapping=False, configuration=[], configuration_tables=[], configuration_query=None, Schedule=DomoSimpleSchedule(schedule_start_date=None, frequency=<ScheduleFrequencyEnum.MANUAL: 'MANUAL'>, schedule_type=<ScheduleType.SIMPLE: 'SIMPLE'>, interval=1, minute=None, hour=None, day_of_week=None, day_of_month=None, month=None, timezone=None, is_active=True, next_run_time=None, parent=DomoStream(id=333, parent=None, transport_description=None, transport_version=None, update_method='REPLACE', data_provider_name='Federated Data', data_provider_key='domo-federateddata', account_id=None, account_display_name=None, account_userid=None, has_mapping=False, configuration=[], configuration_tables=[], configuration_query=None, Schedule=...), schedule_expression=None)), Tags=DomoTags(parent=..., tags=[]), PDP=DatasetPdpPolicies(parent=..., policies=[], is_pdp_enabled=False), Certification=DomoCertification(parent=..., certification_state=None, last_updated=None, certification_type=None, certification_name=None))"
      ]
     },
     "execution_count": 3,
     "metadata": {},
     "output_type": "execute_result"
    }
   ],
   "source": [
    "\n",
    "child_auth = dmda.DomoTokenAuth(\n",
    "    domo_instance=os.environ[\"DOMO_CHILD_INSTANCE\"],\n",
    "    domo_access_token=os.environ[\"DOMO_CHILD_ACCESS_TOKEN\"],\n",
    ")\n",
    "\n",
    "await child_auth.who_am_i()\n",
    "\n",
    "child_ds: dmds.FederatedDomoDataset = await dmds.DomoDataset.get_by_id(\n",
    "    dataset_id = os.environ[\"CHILD_DATASET_ID\"], auth=child_auth\n",
    ")\n",
    "child_ds"
   ]
  },
  {
   "cell_type": "code",
   "execution_count": 4,
   "id": "af517b74",
   "metadata": {},
   "outputs": [
    {
     "name": "stdout",
     "output_type": "stream",
     "text": [
      "[2025-10-31T14:14:59.128614Z] INFO - get_data completed (action=get_data, status=success, duration=397ms)\n",
      "[2025-10-31T14:14:59.128919Z] INFO - who_am_i completed (action=who_am_i, status=success, duration=398ms)\n",
      "[2025-10-31T14:14:59.128992Z] INFO - _DomoAuth_Optional.who_am_i completed (action=_DomoAuth_Optional.who_am_i, status=success, duration=398ms)\n",
      "[2025-10-31T14:14:59.480779Z] INFO - get_data completed (action=get_data, status=success, duration=314ms)\n",
      "[2025-10-31T14:14:59.821616Z] INFO - get_data completed (action=get_data, status=success, duration=339ms)\n",
      "[2025-10-31T14:14:59.822516Z] INFO - get_data completed (action=get_data, status=success, duration=338ms)\n",
      "[2025-10-31T14:14:59.830012Z] INFO - get_data completed (action=get_data, status=success, duration=347ms)\n",
      "[2025-10-31T14:14:59.837812Z] INFO - get_data completed (action=get_data, status=success, duration=356ms)\n",
      "[2025-10-31T14:15:00.696609Z] INFO - get_data completed (action=get_data, status=success, duration=524ms)\n",
      "[2025-10-31T14:15:00.696949Z] INFO - get_dataset_by_id completed (action=get_dataset_by_id, entity=dataset:6b9b4112-6683-434f-b6b5-457946c2f2ca, status=success, duration=525ms)\n",
      "[2025-10-31T14:15:01.288847Z] INFO - get_data completed (action=get_data, status=success, duration=591ms)\n"
     ]
    },
    {
     "data": {
      "text/plain": [
       "DomoDataset(id='6b9b4112-6683-434f-b6b5-457946c2f2ca', display_type='snowflake', data_provider_type='snowflake', name='SNOWFLAKE_SAMPLE_DATA.TPCDS_SF100TCL.CALL_CENTER', description='', row_count=60, column_count=31, stream_id=506, cloud_id='c65f7029-a48a-4057-ae9b-5d93c2d3ac91', last_touched_dt=datetime.datetime(2025, 9, 23, 0, 24, 21), last_updated_dt=datetime.datetime(2025, 9, 23, 0, 24, 20, 786000), created_dt=datetime.datetime(2025, 9, 23, 0, 24, 16), owner={'id': '1042003218', 'name': 'Isaac Rivas', 'type': 'USER', 'group': False}, formulas={}, Data=DomoDataset_Data(parent=...), Schema=DomoDataset_Schema(parent=..., columns=[]), Stream=DomoStream(id=506, parent=..., transport_description=None, transport_version=None, update_method='REPLACE', data_provider_name='Snowflake', data_provider_key='snowflake', account_id=None, account_display_name=None, account_userid=None, has_mapping=False, configuration=[], configuration_tables=[], configuration_query=None, Schedule=DomoSimpleSchedule(schedule_start_date=None, frequency=<ScheduleFrequencyEnum.MANUAL: 'MANUAL'>, schedule_type=<ScheduleType.SIMPLE: 'SIMPLE'>, interval=1, minute=None, hour=None, day_of_week=None, day_of_month=None, month=None, timezone=None, is_active=True, next_run_time=None, parent=DomoStream(id=506, parent=None, transport_description=None, transport_version=None, update_method='REPLACE', data_provider_name='Snowflake', data_provider_key='snowflake', account_id=None, account_display_name=None, account_userid=None, has_mapping=False, configuration=[], configuration_tables=[], configuration_query=None, Schedule=...), schedule_expression=None)), Tags=DomoTags(parent=..., tags=[]), PDP=DatasetPdpPolicies(parent=..., policies=[], is_pdp_enabled=False), Certification=DomoCertification(parent=..., certification_state=None, last_updated=None, certification_type=None, certification_name=None))"
      ]
     },
     "execution_count": 4,
     "metadata": {},
     "output_type": "execute_result"
    }
   ],
   "source": [
    "\n",
    "parent_auth = dmda.DomoTokenAuth(\n",
    "    domo_instance=os.environ[\"DOMO_PARENT_INSTANCE\"],\n",
    "    domo_access_token=os.environ[\"DOMO_PARENT_ACCESS_TOKEN\"],\n",
    ")\n",
    "\n",
    "assert await parent_auth.who_am_i()\n",
    "\n",
    "parent_ds: dmds.DomoDataset = await child_ds.get_federated_parent(\n",
    "    parent_auth=parent_auth\n",
    ")\n",
    "\n",
    "parent_ds"
   ]
  },
  {
   "cell_type": "code",
   "execution_count": 5,
   "id": "0607436c",
   "metadata": {},
   "outputs": [
    {
     "name": "stdout",
     "output_type": "stream",
     "text": [
      "[2025-10-31T14:15:01.611946Z] INFO - get_data completed (action=get_data, status=success, duration=314ms)\n",
      "[2025-10-31T14:15:01.950461Z] INFO - get_data completed (action=get_data, status=success, duration=336ms)\n",
      "[2025-10-31T14:15:01.951030Z] INFO - get_data completed (action=get_data, status=success, duration=337ms)\n",
      "[2025-10-31T14:15:01.958802Z] INFO - get_data completed (action=get_data, status=success, duration=345ms)\n",
      "[2025-10-31T14:15:01.969015Z] INFO - get_data completed (action=get_data, status=success, duration=356ms)\n",
      "[2025-10-31T14:15:02.882305Z] INFO - get_data completed (action=get_data, status=success, duration=590ms)\n",
      "[2025-10-31T14:15:02.882653Z] INFO - get_dataset_by_id completed (action=get_dataset_by_id, entity=dataset:6b9b4112-6683-434f-b6b5-457946c2f2ca, status=success, duration=591ms)\n",
      "[2025-10-31T14:15:03.454730Z] INFO - get_data completed (action=get_data, status=success, duration=571ms)\n",
      "[2025-10-31T14:15:03.846079Z] INFO - get_data completed (action=get_data, status=success, duration=390ms)\n"
     ]
    },
    {
     "data": {
      "text/plain": [
       "[DomoLineageLink_Dataset(type='DATA_SOURCE', id='6b9b4112-6683-434f-b6b5-457946c2f2ca', parents=[], children=[])]"
      ]
     },
     "execution_count": 5,
     "metadata": {},
     "output_type": "execute_result"
    }
   ],
   "source": [
    "await child_ds.Lineage.get(parent_auth = parent_auth, is_recursive=True)"
   ]
  },
  {
   "cell_type": "code",
   "execution_count": 6,
   "id": "c15b22f9",
   "metadata": {},
   "outputs": [
    {
     "data": {
      "text/plain": [
       "[DomoLineageLink_Dataset(type='DATA_SOURCE', id='6b9b4112-6683-434f-b6b5-457946c2f2ca', parents=[], children=[])]"
      ]
     },
     "execution_count": 6,
     "metadata": {},
     "output_type": "execute_result"
    }
   ],
   "source": [
    "child_ds.Lineage.lineage"
   ]
  },
  {
   "cell_type": "code",
   "execution_count": null,
   "id": "d88b5973",
   "metadata": {},
   "outputs": [
    {
     "name": "stdout",
     "output_type": "stream",
     "text": [
      "[2025-10-31T14:15:04.383647Z] INFO - get_data completed (action=get_data, status=success, duration=518ms)\n",
      "[2025-10-31T14:15:04.383867Z] INFO - get_card_metadata completed (action=get_card_metadata, entity=card:1440955006, status=success, duration=518ms)\n",
      "[{'id': '620160727', 'type': 'USER', 'displayName': 'Isaac Rivas'}]\n",
      "[2025-10-31T14:15:04.705902Z] INFO - get_data completed (action=get_data, status=success, duration=321ms)\n",
      "[2025-10-31T14:15:04.815446Z] INFO - get_data completed (action=get_data, status=success, duration=109ms)\n",
      "[2025-10-31T14:15:04.815613Z] INFO - looper completed (action=looper, status=success, duration=431ms)\n",
      "[2025-10-31T14:15:04.815667Z] INFO - search_users completed (action=search_users, status=success, duration=431ms)\n",
      "[2025-10-31T14:15:04.815724Z] INFO - search_users_by_id completed (action=search_users_by_id, status=success, duration=431ms)\n",
      "[2025-10-31T14:15:04.815764Z] INFO - get_by_id completed (user=620160727, action=get_by_id, status=success, duration=431ms)\n",
      "[2025-10-31T14:15:05.184801Z] INFO - get_data completed (action=get_data, status=success, duration=349ms)\n",
      "[2025-10-31T14:15:05.185013Z] INFO - DomoCard.get_by_id completed (action=DomoCard.get_by_id, entity=card:1440955006, status=success, duration=1319ms)\n"
     ]
    }
   ],
   "source": [
    "import domolibrary2.classes.DomoCard.card_default as dmdc\n",
    "\n",
    "child_card = await dmdc.DomoCard.get_by_id(\n",
    "        card_id = os.environ[\"CHILD_CARD_ID\"],\n",
    "        auth=child_auth\n",
    "    )"
   ]
  },
  {
   "cell_type": "code",
   "execution_count": 8,
   "id": "c7067dee",
   "metadata": {},
   "outputs": [
    {
     "name": "stdout",
     "output_type": "stream",
     "text": [
      "[2025-10-31T14:15:05.535659Z] INFO - get_data completed (action=get_data, status=success, duration=342ms)\n",
      "[2025-10-31T14:15:06.111137Z] INFO - get_data completed (action=get_data, status=success, duration=575ms)\n",
      "[2025-10-31T14:15:06.111357Z] INFO - get_dataset_by_id completed (action=get_dataset_by_id, entity=dataset:c62a8fd1-2484-42ec-9235-0674c2e3e0b3, status=success, duration=575ms)\n",
      "[2025-10-31T14:15:06.672805Z] INFO - get_data completed (action=get_data, status=success, duration=561ms)\n"
     ]
    },
    {
     "data": {
      "text/plain": [
       "[DomoLineageLink_Dataset(type='DATA_SOURCE', id='c62a8fd1-2484-42ec-9235-0674c2e3e0b3', parents=[], children=[DomoLineageLink_Card(type='CARD', id='1440955006', parents=[], children=[])])]"
      ]
     },
     "execution_count": 8,
     "metadata": {},
     "output_type": "execute_result"
    }
   ],
   "source": [
    "await child_card.Lineage.get(is_recursive=True)"
   ]
  }
 ],
 "metadata": {
  "kernelspec": {
   "display_name": "dl2",
   "language": "python",
   "name": "python3"
  },
  "language_info": {
   "codemirror_mode": {
    "name": "ipython",
    "version": 3
   },
   "file_extension": ".py",
   "mimetype": "text/x-python",
   "name": "python",
   "nbconvert_exporter": "python",
   "pygments_lexer": "ipython3",
   "version": "3.13.9"
  }
 },
 "nbformat": 4,
 "nbformat_minor": 5
}

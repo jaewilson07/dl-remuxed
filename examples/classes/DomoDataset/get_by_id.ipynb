{
 "cells": [
  {
   "cell_type": "code",
   "execution_count": null,
   "id": "98368a7d",
   "metadata": {},
   "outputs": [
    {
     "name": "stdout",
     "output_type": "stream",
     "text": [
      "Note: you may need to restart the kernel to use updated packages.\n"
     ]
    },
    {
     "name": "stderr",
     "output_type": "stream",
     "text": [
      "c:\\GitHub\\dl2\\.venv\\Scripts\\python.exe: No module named pip\n"
     ]
    }
   ],
   "source": [
    "%pip install -e ."
   ]
  },
  {
   "cell_type": "code",
   "execution_count": null,
   "id": "2cac1e01",
   "metadata": {},
   "outputs": [],
   "source": [
    "import os\n",
    "\n",
    "from dotenv import load_dotenv\n",
    "\n",
    "import domolibrary2.classes.DomoDataset as dmds\n",
    "import domolibrary2.client.auth as dmda\n",
    "\n",
    "assert load_dotenv(override=True)"
   ]
  },
  {
   "cell_type": "code",
   "execution_count": null,
   "id": "9c25e549",
   "metadata": {},
   "outputs": [
    {
     "name": "stdout",
     "output_type": "stream",
     "text": [
      "[2025-10-31T13:49:15.198176Z] INFO - get_data completed (action=get_data, status=success, duration=416ms)\n",
      "[2025-10-31T13:49:15.198367Z] INFO - who_am_i completed (action=who_am_i, status=success, duration=416ms)\n",
      "[2025-10-31T13:49:15.198609Z] INFO - _DomoAuth_Optional.who_am_i completed (action=_DomoAuth_Optional.who_am_i, status=success, duration=417ms)\n"
     ]
    },
    {
     "data": {
      "text/plain": [
       "ResponseGetData(status=200, response={'id': 1893952720, 'invitorUserId': 587894148, 'displayName': 'Jae Wilson1', 'department': 'Business Improvement', 'userName': 'jae@onyxreporting.com', 'emailAddress': 'jae@datacrew.space', 'avatarKey': 'c605f478-0cd2-4451-9fd4-d82090b71e66', 'accepted': True, 'userType': 'USER', 'modified': 1761935397325, 'created': 1588960518, 'active': True, 'systemUser': False, 'anonymous': False, 'pending': False}, is_success=True, request_metadata=RequestMetadata(url='https://domo-community.domo.com/api/content/v2/users/me', body='null', params=None))"
      ]
     },
     "execution_count": 9,
     "metadata": {},
     "output_type": "execute_result"
    }
   ],
   "source": [
    "auth = dmda.DomoTokenAuth(\n",
    "    domo_instance=os.environ.get(\"DOMO_INSTANCE\"),\n",
    "    domo_access_token=os.environ.get(\"DOMO_ACCESS_TOKEN\"),\n",
    ")\n",
    "\n",
    "await auth.who_am_i()\n"
   ]
  },
  {
   "cell_type": "code",
   "execution_count": null,
   "id": "469fde4d",
   "metadata": {},
   "outputs": [
    {
     "name": "stdout",
     "output_type": "stream",
     "text": [
      "[2025-10-31T13:49:29.263408Z] INFO - get_data completed (action=get_data, status=success, duration=612ms)\n",
      "[2025-10-31T13:49:29.263671Z] INFO - get_dataset_by_id completed (action=get_dataset_by_id, entity=dataset:e3e9c46c-c3aa-437b-943e-3ff81634b9ed, status=success, duration=612ms)\n",
      "[2025-10-31T13:49:29.821512Z] INFO - get_data completed (action=get_data, status=success, duration=557ms)\n"
     ]
    }
   ],
   "source": [
    "ds = await dmds.DomoDataset.get_by_id(\n",
    "    dataset_id=os.environ['DATASET_ID_1'],\n",
    "    auth=auth)"
   ]
  }
 ],
 "metadata": {
  "kernelspec": {
   "display_name": "dl2",
   "language": "python",
   "name": "python3"
  },
  "language_info": {
   "codemirror_mode": {
    "name": "ipython",
    "version": 3
   },
   "file_extension": ".py",
   "mimetype": "text/x-python",
   "name": "python",
   "nbconvert_exporter": "python",
   "pygments_lexer": "ipython3",
   "version": "3.13.9"
  }
 },
 "nbformat": 4,
 "nbformat_minor": 5
}

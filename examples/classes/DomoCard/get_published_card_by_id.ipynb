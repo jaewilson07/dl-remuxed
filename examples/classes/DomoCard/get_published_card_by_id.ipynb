{
 "cells": [
  {
   "cell_type": "code",
   "execution_count": 1,
   "id": "362cf67f",
   "metadata": {},
   "outputs": [
    {
     "name": "stdout",
     "output_type": "stream",
     "text": [
      "Note: you may need to restart the kernel to use updated packages.\n"
     ]
    },
    {
     "name": "stderr",
     "output_type": "stream",
     "text": [
      "c:\\GitHub\\dl2\\.venv\\Scripts\\python.exe: No module named pip\n"
     ]
    }
   ],
   "source": [
    "%pip install -e ../../src/domolibrary2"
   ]
  },
  {
   "cell_type": "code",
   "execution_count": 2,
   "id": "b5f4bff3",
   "metadata": {},
   "outputs": [],
   "source": [
    "\n",
    "import os\n",
    "\n",
    "from dotenv import load_dotenv\n",
    "\n",
    "import domolibrary2.client.auth as dmda\n",
    "\n",
    "assert load_dotenv(override=True)\n"
   ]
  },
  {
   "cell_type": "code",
   "execution_count": 3,
   "id": "8fab5c52",
   "metadata": {},
   "outputs": [
    {
     "name": "stdout",
     "output_type": "stream",
     "text": [
      "[2025-10-31T15:13:19.355277Z] INFO - get_data completed (action=get_data, status=success, duration=469ms)\n",
      "[2025-10-31T15:13:19.355436Z] INFO - who_am_i completed (action=who_am_i, status=success, duration=469ms)\n",
      "[2025-10-31T15:13:19.355650Z] INFO - _DomoAuth_Optional.who_am_i completed (action=_DomoAuth_Optional.who_am_i, status=success, duration=470ms)\n",
      "[2025-10-31T15:13:19.765230Z] INFO - get_data completed (action=get_data, status=success, duration=409ms)\n",
      "[2025-10-31T15:13:19.765395Z] INFO - get_card_metadata completed (action=get_card_metadata, entity=card:1440955006, status=success, duration=409ms)\n",
      "[{'id': '620160727', 'type': 'USER', 'displayName': 'Isaac Rivas'}]\n",
      "[2025-10-31T15:13:20.083422Z] INFO - get_data completed (action=get_data, status=success, duration=316ms)\n",
      "[2025-10-31T15:13:20.189942Z] INFO - get_data completed (action=get_data, status=success, duration=105ms)\n",
      "[2025-10-31T15:13:20.190200Z] INFO - looper completed (action=looper, status=success, duration=424ms)\n",
      "[2025-10-31T15:13:20.190273Z] INFO - search_users completed (action=search_users, status=success, duration=424ms)\n",
      "[2025-10-31T15:13:20.190361Z] INFO - search_users_by_id completed (action=search_users_by_id, status=success, duration=424ms)\n",
      "[2025-10-31T15:13:20.190424Z] INFO - get_by_id completed (user=620160727, action=get_by_id, status=success, duration=424ms)\n",
      "[2025-10-31T15:13:20.609882Z] INFO - get_data completed (action=get_data, status=success, duration=307ms)\n",
      "[2025-10-31T15:13:20.610413Z] INFO - DomoCard_Default.get_by_id completed (action=DomoCard_Default.get_by_id, entity=card:1440955006, status=success, duration=1254ms)\n"
     ]
    },
    {
     "data": {
      "text/plain": [
       "DomoCard(id=1440955006, title='SNOWFLAKE_SAMPLE_DATA.TPCDS_SF100TCL.CALL_CENTER', description=None, type='kpi', urn='1440955006', chart_type=None, dataset_id='c62a8fd1-2484-42ec-9235-0674c2e3e0b3', datastore_id=None, domo_collections=[], domo_source_code=None, certification={'state': 'NOT_CERTIFIED', 'adminCertified': False}, owners=[DomoUser(id='620160727', display_name='Isaac Rivas', email_address='idrc74@hotmail.com', role_id=1, department=None, title=None, avatar_key='/api/content/v1/avatar/USER/620160727', avatar=None, phone_number=None, web_landing_page=None, web_mobile_landing_page=None, employee_id=None, employee_number=None, hire_date=None, reports_to=None, publisher_domain=None, subscriber_domain=None, virtual_user_id=None, created_dt=datetime.datetime(2025, 9, 23, 0, 19, 9), last_activity_dt=datetime.datetime(2025, 10, 28, 12, 48, 41, 85000), custom_attributes={}, domo_api_clients=None, domo_access_tokens=None, Role=DomoRole(id=1, relationships=[], name='Admin', description='Full access to everything', is_system_role=True, is_default_role=None, grants=[], membership=[]), ApiClients=ApiClients(auth=DomoTokenAuth(domo_instance='crystalballers-ai-partner-christian', token_name='crystalballers-ai-partner-christian', user_id=620160727, is_valid_token=True), domo_clients=[], invalid_clients=[], parent=...))])"
      ]
     },
     "execution_count": 3,
     "metadata": {},
     "output_type": "execute_result"
    }
   ],
   "source": [
    "import domolibrary2.classes.DomoCard as dmdc\n",
    "\n",
    "child_auth = dmda.DomoTokenAuth(\n",
    "    domo_instance=os.environ[\"DOMO_CHILD_INSTANCE\"],\n",
    "    domo_access_token=os.environ[\"DOMO_CHILD_ACCESS_TOKEN\"],\n",
    ")\n",
    "\n",
    "await child_auth.who_am_i()\n",
    "\n",
    "child_card = await dmdc.DomoCard.get_by_id(\n",
    "    card_id = os.environ[\"CHILD_CARD_ID\"],\n",
    "    auth=child_auth,\n",
    ")\n",
    "child_card"
   ]
  },
  {
   "cell_type": "code",
   "execution_count": 5,
   "id": "6a60f20d",
   "metadata": {},
   "outputs": [
    {
     "data": {
      "text/plain": [
       "False"
      ]
     },
     "execution_count": 5,
     "metadata": {},
     "output_type": "execute_result"
    }
   ],
   "source": [
    "child_card.is_federated"
   ]
  },
  {
   "cell_type": "code",
   "execution_count": 4,
   "id": "ff2fe418",
   "metadata": {},
   "outputs": [
    {
     "name": "stdout",
     "output_type": "stream",
     "text": [
      "[2025-10-31T15:13:21.247256Z] INFO - get_data completed (action=get_data, status=success, duration=625ms)\n",
      "[2025-10-31T15:13:21.247469Z] INFO - get_dataset_by_id completed (action=get_dataset_by_id, entity=dataset:c62a8fd1-2484-42ec-9235-0674c2e3e0b3, status=success, duration=625ms)\n",
      "[2025-10-31T15:13:21.827064Z] INFO - get_data completed (action=get_data, status=success, duration=579ms)\n"
     ]
    },
    {
     "data": {
      "text/plain": [
       "[FederatedDomoDataset(id='c62a8fd1-2484-42ec-9235-0674c2e3e0b3', display_type='domo-federateddata', data_provider_type='domo-federateddata', name='SNOWFLAKE_SAMPLE_DATA.TPCDS_SF100TCL.CALL_CENTER', description='', row_count=60, column_count=31, stream_id=333, cloud_id=None, last_touched_dt=datetime.datetime(2025, 9, 23, 0, 30, 30), last_updated_dt=datetime.datetime(2025, 9, 23, 0, 30, 29, 545000), created_dt=datetime.datetime(2025, 9, 23, 0, 30, 28), owner={'id': '832191625', 'name': 'Christian Antelo', 'type': 'USER', 'group': False}, formulas={}, Data=DomoDataset_Data(parent=...), Schema=DomoDataset_Schema(parent=..., columns=[]), Stream=DomoStream(id=333, parent=..., transport_description=None, transport_version=None, update_method='REPLACE', data_provider_name='Federated Data', data_provider_key='domo-federateddata', account_id=None, account_display_name=None, account_userid=None, has_mapping=False, configuration=[], configuration_tables=[], configuration_query=None, Schedule=DomoSimpleSchedule(schedule_start_date=None, frequency=<ScheduleFrequencyEnum.MANUAL: 'MANUAL'>, schedule_type=<ScheduleType.SIMPLE: 'SIMPLE'>, interval=1, minute=None, hour=None, day_of_week=None, day_of_month=None, month=None, timezone=None, is_active=True, next_run_time=None, parent=DomoStream(id=333, parent=None, transport_description=None, transport_version=None, update_method='REPLACE', data_provider_name='Federated Data', data_provider_key='domo-federateddata', account_id=None, account_display_name=None, account_userid=None, has_mapping=False, configuration=[], configuration_tables=[], configuration_query=None, Schedule=...), schedule_expression=None)), Tags=DomoTags(parent=..., tags=[]), PDP=DatasetPdpPolicies(parent=..., policies=[], is_pdp_enabled=False), Certification=DomoCertification(parent=..., certification_state=None, last_updated=None, certification_type=None, certification_name=None))]"
      ]
     },
     "execution_count": 4,
     "metadata": {},
     "output_type": "execute_result"
    }
   ],
   "source": [
    "await child_card.Datasets.get()"
   ]
  }
 ],
 "metadata": {
  "kernelspec": {
   "display_name": "dl2",
   "language": "python",
   "name": "python3"
  },
  "language_info": {
   "codemirror_mode": {
    "name": "ipython",
    "version": 3
   },
   "file_extension": ".py",
   "mimetype": "text/x-python",
   "name": "python",
   "nbconvert_exporter": "python",
   "pygments_lexer": "ipython3",
   "version": "3.13.9"
  }
 },
 "nbformat": 4,
 "nbformat_minor": 5
}

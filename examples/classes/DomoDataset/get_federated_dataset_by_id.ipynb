{
 "cells": [
  {
   "cell_type": "code",
   "execution_count": 2,
   "id": "ea429c2b",
   "metadata": {},
   "outputs": [
    {
     "name": "stdout",
     "output_type": "stream",
     "text": [
      "Note: you may need to restart the kernel to use updated packages.\n"
     ]
    },
    {
     "name": "stderr",
     "output_type": "stream",
     "text": [
      "c:\\GitHub\\dl2\\.venv\\Scripts\\python.exe: No module named pip\n"
     ]
    }
   ],
   "source": [
    "%pip install -e ."
   ]
  },
  {
   "cell_type": "code",
   "execution_count": 3,
   "id": "ca48a6fd",
   "metadata": {},
   "outputs": [],
   "source": [
    "import os\n",
    "\n",
    "from dotenv import load_dotenv\n",
    "\n",
    "import domolibrary2.classes.DomoDataset as dmds\n",
    "import domolibrary2.client.auth as dmda\n",
    "\n",
    "assert load_dotenv(override=True)\n"
   ]
  },
  {
   "cell_type": "code",
   "execution_count": 4,
   "id": "30c74b67",
   "metadata": {},
   "outputs": [
    {
     "name": "stdout",
     "output_type": "stream",
     "text": [
      "[2025-10-31T09:32:41.909995Z] INFO - get_data completed (action=get_data, status=success, duration=341ms)\n",
      "[2025-10-31T09:32:41.910369Z] INFO - who_am_i completed (action=who_am_i, status=success, duration=342ms)\n",
      "[2025-10-31T09:32:41.911002Z] INFO - _DomoAuth_Optional.who_am_i completed (action=_DomoAuth_Optional.who_am_i, status=success, duration=343ms)\n",
      "[2025-10-31T09:32:42.447380Z] INFO - get_data completed (action=get_data, status=success, duration=535ms)\n",
      "[2025-10-31T09:32:42.447641Z] INFO - get_dataset_by_id completed (action=get_dataset_by_id, entity=dataset:c62a8fd1-2484-42ec-9235-0674c2e3e0b3, status=success, duration=536ms)\n"
     ]
    },
    {
     "data": {
      "text/plain": [
       "FederatedDomoDataset(id='c62a8fd1-2484-42ec-9235-0674c2e3e0b3', display_type='domo-federateddata', data_provider_type='domo-federateddata', name='SNOWFLAKE_SAMPLE_DATA.TPCDS_SF100TCL.CALL_CENTER', description='', row_count=60, column_count=31, stream_id=333, cloud_id=None, last_touched_dt=datetime.datetime(2025, 9, 23, 0, 30, 30), last_updated_dt=datetime.datetime(2025, 9, 23, 0, 30, 29, 545000), created_dt=datetime.datetime(2025, 9, 23, 0, 30, 28), owner={'id': '832191625', 'name': 'Christian Antelo', 'type': 'USER', 'group': False}, formulas={}, Data=DomoDataset_Data(parent=...), Schema=DomoDataset_Schema(parent=..., columns=[]), Stream=DomoStream(id=333, transport_description=None, transport_version=None, update_method=None, data_provider_name=None, data_provider_key=None, account_id=None, account_display_name=None, account_userid=None, has_mapping=False, configuration=[], configuration_tables=[], configuration_query=None, parent=...), Tags=DomoTags(parent=..., tags=[]), PDP=DatasetPdpPolicies(parent=..., policies=[], is_pdp_enabled=False), Certification=DomoCertification(parent=..., certification_state=None, last_updated=None, certification_type=None, certification_name=None), Schedule=None)"
      ]
     },
     "execution_count": 4,
     "metadata": {},
     "output_type": "execute_result"
    }
   ],
   "source": [
    "\n",
    "child_auth = dmda.DomoTokenAuth(\n",
    "    domo_instance=os.environ[\"DOMO_CHILD_INSTANCE\"],\n",
    "    domo_access_token=os.environ[\"DOMO_CHILD_ACCESS_TOKEN\"],\n",
    ")\n",
    "\n",
    "await child_auth.who_am_i()\n",
    "\n",
    "child_ds: dmds.FederatedDomoDataset = await dmds.DomoDataset.get_by_id(\n",
    "    dataset_id = os.environ[\"CHILD_DATASET_ID\"], auth=child_auth\n",
    ")\n",
    "child_ds"
   ]
  },
  {
   "cell_type": "code",
   "execution_count": 5,
   "id": "af517b74",
   "metadata": {},
   "outputs": [
    {
     "name": "stdout",
     "output_type": "stream",
     "text": [
      "[2025-10-31T09:32:42.859795Z] INFO - get_data completed (action=get_data, status=success, duration=392ms)\n",
      "[2025-10-31T09:32:42.860836Z] INFO - who_am_i completed (action=who_am_i, status=success, duration=393ms)\n",
      "[2025-10-31T09:32:42.861150Z] INFO - _DomoAuth_Optional.who_am_i completed (action=_DomoAuth_Optional.who_am_i, status=success, duration=394ms)\n",
      "[2025-10-31T09:32:43.165257Z] INFO - get_data completed (action=get_data, status=success, duration=233ms)\n",
      "[2025-10-31T09:32:43.435698Z] INFO - get_data completed (action=get_data, status=success, duration=268ms)\n",
      "[2025-10-31T09:32:43.440412Z] INFO - get_data completed (action=get_data, status=success, duration=272ms)\n",
      "[2025-10-31T09:32:43.444845Z] INFO - get_data completed (action=get_data, status=success, duration=275ms)\n",
      "[2025-10-31T09:32:43.469984Z] INFO - get_data completed (action=get_data, status=success, duration=303ms)\n",
      "[2025-10-31T09:32:44.213721Z] INFO - get_data completed (action=get_data, status=success, duration=505ms)\n",
      "[2025-10-31T09:32:44.214918Z] INFO - get_dataset_by_id completed (action=get_dataset_by_id, entity=dataset:6b9b4112-6683-434f-b6b5-457946c2f2ca, status=success, duration=506ms)\n"
     ]
    },
    {
     "data": {
      "text/plain": [
       "DomoDataset(id='6b9b4112-6683-434f-b6b5-457946c2f2ca', display_type='snowflake', data_provider_type='snowflake', name='SNOWFLAKE_SAMPLE_DATA.TPCDS_SF100TCL.CALL_CENTER', description='', row_count=60, column_count=31, stream_id=506, cloud_id='c65f7029-a48a-4057-ae9b-5d93c2d3ac91', last_touched_dt=datetime.datetime(2025, 9, 23, 0, 24, 21), last_updated_dt=datetime.datetime(2025, 9, 23, 0, 24, 20, 786000), created_dt=datetime.datetime(2025, 9, 23, 0, 24, 16), owner={'id': '1042003218', 'name': 'Isaac Rivas', 'type': 'USER', 'group': False}, formulas={}, Data=DomoDataset_Data(parent=...), Schema=DomoDataset_Schema(parent=..., columns=[]), Stream=DomoStream(id=506, transport_description=None, transport_version=None, update_method=None, data_provider_name=None, data_provider_key=None, account_id=None, account_display_name=None, account_userid=None, has_mapping=False, configuration=[], configuration_tables=[], configuration_query=None, parent=...), Tags=DomoTags(parent=..., tags=[]), PDP=DatasetPdpPolicies(parent=..., policies=[], is_pdp_enabled=False), Certification=DomoCertification(parent=..., certification_state=None, last_updated=None, certification_type=None, certification_name=None), Schedule=None)"
      ]
     },
     "execution_count": 5,
     "metadata": {},
     "output_type": "execute_result"
    }
   ],
   "source": [
    "\n",
    "parent_auth = dmda.DomoTokenAuth(\n",
    "    domo_instance=os.environ[\"DOMO_PARENT_INSTANCE\"],\n",
    "    domo_access_token=os.environ[\"DOMO_PARENT_ACCESS_TOKEN\"],\n",
    ")\n",
    "\n",
    "assert await parent_auth.who_am_i()\n",
    "\n",
    "parent_ds: dmds.DomoDataset = await child_ds.get_federated_parent(\n",
    "    parent_auth=parent_auth\n",
    ")\n",
    "\n",
    "parent_ds"
   ]
  },
  {
   "cell_type": "code",
   "execution_count": 6,
   "id": "0607436c",
   "metadata": {},
   "outputs": [
    {
     "name": "stdout",
     "output_type": "stream",
     "text": [
      "[2025-10-31T09:32:44.488800Z] INFO - get_data completed (action=get_data, status=success, duration=245ms)\n",
      "[2025-10-31T09:32:44.717401Z] INFO - get_data completed (action=get_data, status=success, duration=226ms)\n",
      "[2025-10-31T09:32:44.726431Z] INFO - get_data completed (action=get_data, status=success, duration=232ms)\n",
      "[2025-10-31T09:32:44.731419Z] INFO - get_data completed (action=get_data, status=success, duration=238ms)\n",
      "[2025-10-31T09:32:44.740781Z] INFO - get_data completed (action=get_data, status=success, duration=251ms)\n",
      "[2025-10-31T09:32:45.415368Z] INFO - get_data completed (action=get_data, status=success, duration=457ms)\n",
      "[2025-10-31T09:32:45.415659Z] INFO - get_dataset_by_id completed (action=get_dataset_by_id, entity=dataset:6b9b4112-6683-434f-b6b5-457946c2f2ca, status=success, duration=457ms)\n",
      "[2025-10-31T09:32:45.655607Z] INFO - get_data completed (action=get_data, status=success, duration=239ms)\n"
     ]
    },
    {
     "data": {
      "text/plain": [
       "[DomoLineageLink_Dataset(type='DATA_SOURCE', id='6b9b4112-6683-434f-b6b5-457946c2f2ca', parents=[], children=[])]"
      ]
     },
     "execution_count": 6,
     "metadata": {},
     "output_type": "execute_result"
    }
   ],
   "source": [
    "await child_ds.Lineage.get(parent_auth = parent_auth, is_recursive=True)"
   ]
  },
  {
   "cell_type": "code",
   "execution_count": 7,
   "id": "c15b22f9",
   "metadata": {},
   "outputs": [
    {
     "data": {
      "text/plain": [
       "[DomoLineageLink_Dataset(type='DATA_SOURCE', id='6b9b4112-6683-434f-b6b5-457946c2f2ca', parents=[], children=[])]"
      ]
     },
     "execution_count": 7,
     "metadata": {},
     "output_type": "execute_result"
    }
   ],
   "source": [
    "child_ds.Lineage.lineage"
   ]
  },
  {
   "cell_type": "code",
   "execution_count": 8,
   "id": "d88b5973",
   "metadata": {},
   "outputs": [
    {
     "name": "stdout",
     "output_type": "stream",
     "text": [
      "[2025-10-31T09:32:45.977223Z] INFO - get_data completed (action=get_data, status=success, duration=277ms)\n",
      "[2025-10-31T09:32:45.978448Z] INFO - get_card_metadata completed (action=get_card_metadata, entity=card:1440955006, status=success, duration=278ms)\n",
      "[{'id': '620160727', 'type': 'USER', 'displayName': 'Isaac Rivas'}]\n",
      "[2025-10-31T09:32:46.210548Z] INFO - get_data completed (action=get_data, status=success, duration=229ms)\n",
      "[2025-10-31T09:32:46.282730Z] INFO - get_data completed (action=get_data, status=success, duration=71ms)\n",
      "[2025-10-31T09:32:46.283112Z] INFO - looper completed (action=looper, status=success, duration=303ms)\n",
      "[2025-10-31T09:32:46.283241Z] INFO - search_users completed (action=search_users, status=success, duration=303ms)\n",
      "[2025-10-31T09:32:46.283387Z] INFO - search_users_by_id completed (action=search_users_by_id, status=success, duration=304ms)\n",
      "[2025-10-31T09:32:46.283499Z] INFO - get_by_id completed (user=620160727, action=get_by_id, status=success, duration=304ms)\n",
      "[2025-10-31T09:32:46.558249Z] INFO - get_data completed (action=get_data, status=success, duration=227ms)\n",
      "[2025-10-31T09:32:46.559294Z] INFO - DomoCard.get_by_id completed (action=DomoCard.get_by_id, entity=card:1440955006, status=success, duration=859ms)\n"
     ]
    }
   ],
   "source": [
    "import domolibrary2.classes.DomoCard as dmdc\n",
    "\n",
    "child_card = await dmdc.DomoCard.get_by_id(\n",
    "        card_id = os.environ[\"CHILD_CARD_ID\"],\n",
    "        auth=child_auth\n",
    "    )"
   ]
  },
  {
   "cell_type": "code",
   "execution_count": 9,
   "id": "c7067dee",
   "metadata": {},
   "outputs": [
    {
     "name": "stdout",
     "output_type": "stream",
     "text": [
      "[2025-10-31T09:32:46.824199Z] INFO - get_data completed (action=get_data, status=success, duration=246ms)\n",
      "[2025-10-31T09:32:47.373995Z] INFO - get_data completed (action=get_data, status=success, duration=548ms)\n",
      "[2025-10-31T09:32:47.374886Z] INFO - get_dataset_by_id completed (action=get_dataset_by_id, entity=dataset:c62a8fd1-2484-42ec-9235-0674c2e3e0b3, status=success, duration=549ms)\n"
     ]
    },
    {
     "data": {
      "text/plain": [
       "[DomoLineageLink_Dataset(type='DATA_SOURCE', id='c62a8fd1-2484-42ec-9235-0674c2e3e0b3', parents=[], children=[DomoLineageLink_Card(type='CARD', id='1440955006', parents=[], children=[])])]"
      ]
     },
     "execution_count": 9,
     "metadata": {},
     "output_type": "execute_result"
    }
   ],
   "source": [
    "await child_card.Lineage.get(is_recursive=True)"
   ]
  },
  {
   "cell_type": "code",
   "execution_count": 10,
   "id": "dceba5f6",
   "metadata": {},
   "outputs": [
    {
     "data": {
      "text/plain": [
       "FederatedDomoDataset(id='c62a8fd1-2484-42ec-9235-0674c2e3e0b3', display_type='domo-federateddata', data_provider_type='domo-federateddata', name='SNOWFLAKE_SAMPLE_DATA.TPCDS_SF100TCL.CALL_CENTER', description='', row_count=60, column_count=31, stream_id=333, cloud_id=None, last_touched_dt=datetime.datetime(2025, 9, 23, 0, 30, 30), last_updated_dt=datetime.datetime(2025, 9, 23, 0, 30, 29, 545000), created_dt=datetime.datetime(2025, 9, 23, 0, 30, 28), owner={'id': '832191625', 'name': 'Christian Antelo', 'type': 'USER', 'group': False}, formulas={}, Data=DomoDataset_Data(parent=...), Schema=DomoDataset_Schema(parent=..., columns=[]), Stream=DomoStream(id=333, transport_description=None, transport_version=None, update_method=None, data_provider_name=None, data_provider_key=None, account_id=None, account_display_name=None, account_userid=None, has_mapping=False, configuration=[], configuration_tables=[], configuration_query=None, parent=...), Tags=DomoTags(parent=..., tags=[]), PDP=DatasetPdpPolicies(parent=..., policies=[], is_pdp_enabled=False), Certification=DomoCertification(parent=..., certification_state=None, last_updated=None, certification_type=None, certification_name=None), Schedule=None)"
      ]
     },
     "execution_count": 10,
     "metadata": {},
     "output_type": "execute_result"
    }
   ],
   "source": [
    "child_ds.Lineage.parent"
   ]
  }
 ],
 "metadata": {
  "kernelspec": {
   "display_name": "dl2",
   "language": "python",
   "name": "python3"
  },
  "language_info": {
   "codemirror_mode": {
    "name": "ipython",
    "version": 3
   },
   "file_extension": ".py",
   "mimetype": "text/x-python",
   "name": "python",
   "nbconvert_exporter": "python",
   "pygments_lexer": "ipython3",
   "version": "3.13.9"
  }
 },
 "nbformat": 4,
 "nbformat_minor": 5
}

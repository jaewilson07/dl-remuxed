{
 "cells": [
  {
   "cell_type": "code",
   "execution_count": null,
   "id": "362cf67f",
   "metadata": {},
   "outputs": [
    {
     "name": "stdout",
     "output_type": "stream",
     "text": [
      "Note: you may need to restart the kernel to use updated packages.\n"
     ]
    },
    {
     "name": "stderr",
     "output_type": "stream",
     "text": [
      "c:\\GitHub\\dl2\\.venv\\Scripts\\python.exe: No module named pip\n"
     ]
    }
   ],
   "source": [
    "%pip install -e ../../src/domolibrary2"
   ]
  },
  {
   "cell_type": "code",
   "execution_count": null,
   "id": "bc910de2",
   "metadata": {},
   "outputs": [
    {
     "data": {
      "text/plain": [
       "'1.0.4'"
      ]
     },
     "execution_count": 2,
     "metadata": {},
     "output_type": "execute_result"
    }
   ],
   "source": [
    "import dc_logger\n",
    "\n",
    "dc_logger.__version__"
   ]
  },
  {
   "cell_type": "code",
   "execution_count": null,
   "id": "b5f4bff3",
   "metadata": {},
   "outputs": [],
   "source": [
    "\n",
    "import os\n",
    "\n",
    "from dotenv import load_dotenv\n",
    "\n",
    "import domolibrary2.client.auth as dmda\n",
    "\n",
    "assert load_dotenv()\n",
    "\n",
    "from dc_logger.client.base import (\n",
    "    HandlerBufferSettings,\n",
    "    HandlerInstance,\n",
    "    Logger,\n",
    "    get_global_logger,\n",
    "    set_global_logger,\n",
    ")\n",
    "from dc_logger.logs.services.file import FileHandler, FileServiceConfig\n",
    "\n",
    "json_config = FileServiceConfig(\n",
    "    destination=\"../../LOGGER/classes/DomoDataset/get_federated_dataset_by_id.json\",\n",
    "    output_mode=\"file\",\n",
    "    format=\"json\",\n",
    "    append=True,\n",
    ")\n",
    "\n",
    "json_file_handler = FileHandler(\n",
    "    buffer_settings=HandlerBufferSettings(), service_config=json_config\n",
    ")\n",
    "\n",
    "json_handler_instance = HandlerInstance(\n",
    "    service_handler=json_file_handler, handler_name=\"json_file\"\n",
    ")\n",
    "\n",
    "logger: Logger = get_global_logger()\n",
    "logger.handlers = [json_handler_instance]\n",
    "set_global_logger(logger)\n"
   ]
  },
  {
   "cell_type": "code",
   "execution_count": null,
   "id": "8fab5c52",
   "metadata": {},
   "outputs": [
    {
     "name": "stdout",
     "output_type": "stream",
     "text": [
      "[{'id': '620160727', 'type': 'USER', 'displayName': 'Isaac Rivas'}]\n"
     ]
    },
    {
     "ename": "UnboundLocalError",
     "evalue": "cannot access local variable 'result_context' where it is not associated with a value",
     "output_type": "error",
     "traceback": [
      "\u001b[31m---------------------------------------------------------------------------\u001b[39m",
      "\u001b[31mImportError\u001b[39m                               Traceback (most recent call last)",
      "\u001b[36mFile \u001b[39m\u001b[32mc:\\GitHub\\dl2\\.venv\\Lib\\site-packages\\dc_logger\\decorators.py:375\u001b[39m, in \u001b[36m_execute_with_logging\u001b[39m\u001b[34m(func, args, kwargs, config, logger, logger_getter, is_async)\u001b[39m\n\u001b[32m    374\u001b[39m \u001b[38;5;28;01mif\u001b[39;00m is_async:\n\u001b[32m--> \u001b[39m\u001b[32m375\u001b[39m     result = \u001b[38;5;28;01mawait\u001b[39;00m func(*args, **kwargs)\n\u001b[32m    376\u001b[39m \u001b[38;5;28;01melse\u001b[39;00m:\n",
      "\u001b[36mFile \u001b[39m\u001b[32mC:\\GitHub\\dl2\\src\\domolibrary2\\classes\\DomoCard.py:138\u001b[39m, in \u001b[36mDomoCard.get_by_id\u001b[39m\u001b[34m(cls, auth, card_id, optional_parts, debug_api, session, return_raw, is_suppress_errors)\u001b[39m\n\u001b[32m    136\u001b[39m     \u001b[38;5;28;01mreturn\u001b[39;00m res\n\u001b[32m--> \u001b[39m\u001b[32m138\u001b[39m owners = \u001b[38;5;28;01mawait\u001b[39;00m \u001b[38;5;28mcls\u001b[39m.get_owners(\n\u001b[32m    139\u001b[39m     auth=auth,\n\u001b[32m    140\u001b[39m     owners=res.response.get(\u001b[33m\"\u001b[39m\u001b[33mowners\u001b[39m\u001b[33m\"\u001b[39m, []),\n\u001b[32m    141\u001b[39m     is_suppress_errors=is_suppress_errors,\n\u001b[32m    142\u001b[39m )\n\u001b[32m    144\u001b[39m domo_card = \u001b[38;5;28;01mawait\u001b[39;00m \u001b[38;5;28mcls\u001b[39m.from_dict(auth=auth, obj=res.response, owners=owners)\n",
      "\u001b[36mFile \u001b[39m\u001b[32mC:\\GitHub\\dl2\\src\\domolibrary2\\classes\\DomoCard.py:109\u001b[39m, in \u001b[36mDomoCard.get_owners\u001b[39m\u001b[34m(auth, owners, is_suppress_errors)\u001b[39m\n\u001b[32m    107\u001b[39m             \u001b[38;5;28mprint\u001b[39m(\u001b[33mf\u001b[39m\u001b[33m\"\u001b[39m\u001b[33mSuppressed error getting owner \u001b[39m\u001b[38;5;132;01m{\u001b[39;00mele[\u001b[33m'\u001b[39m\u001b[33mid\u001b[39m\u001b[33m'\u001b[39m]\u001b[38;5;132;01m}\u001b[39;00m\u001b[33m - \u001b[39m\u001b[38;5;132;01m{\u001b[39;00me\u001b[38;5;132;01m}\u001b[39;00m\u001b[33m\"\u001b[39m)\n\u001b[32m--> \u001b[39m\u001b[32m109\u001b[39m \u001b[38;5;28;01mreturn\u001b[39;00m \u001b[38;5;28;01mawait\u001b[39;00m dmce.gather_with_concurrency(n=\u001b[32m60\u001b[39m, *tasks)\n",
      "\u001b[36mFile \u001b[39m\u001b[32mC:\\GitHub\\dl2\\src\\domolibrary2\\utils\\chunk_execution.py:147\u001b[39m, in \u001b[36mgather_with_concurrency\u001b[39m\u001b[34m(n, *coros)\u001b[39m\n\u001b[32m    145\u001b[39m         \u001b[38;5;28;01mreturn\u001b[39;00m \u001b[38;5;28;01mawait\u001b[39;00m coro\n\u001b[32m--> \u001b[39m\u001b[32m147\u001b[39m \u001b[38;5;28;01mreturn\u001b[39;00m \u001b[38;5;28;01mawait\u001b[39;00m asyncio.gather(*(sem_coro(c) \u001b[38;5;28;01mfor\u001b[39;00m c \u001b[38;5;129;01min\u001b[39;00m coros))\n",
      "\u001b[36mFile \u001b[39m\u001b[32mC:\\GitHub\\dl2\\src\\domolibrary2\\utils\\chunk_execution.py:145\u001b[39m, in \u001b[36mgather_with_concurrency.<locals>.sem_coro\u001b[39m\u001b[34m(coro)\u001b[39m\n\u001b[32m    144\u001b[39m \u001b[38;5;28;01masync\u001b[39;00m \u001b[38;5;28;01mwith\u001b[39;00m semaphore:\n\u001b[32m--> \u001b[39m\u001b[32m145\u001b[39m     \u001b[38;5;28;01mreturn\u001b[39;00m \u001b[38;5;28;01mawait\u001b[39;00m coro\n",
      "\u001b[36mFile \u001b[39m\u001b[32mC:\\GitHub\\dl2\\src\\domolibrary2\\classes\\DomoUser.py:259\u001b[39m, in \u001b[36mDomoUser.get_by_id\u001b[39m\u001b[34m(cls, auth, user_id, return_raw, debug_api, debug_num_stacks_to_drop, session)\u001b[39m\n\u001b[32m    257\u001b[39m     \u001b[38;5;28;01mreturn\u001b[39;00m \u001b[38;5;28;01mNone\u001b[39;00m\n\u001b[32m--> \u001b[39m\u001b[32m259\u001b[39m domo_user = \u001b[38;5;28;43mcls\u001b[39;49m\u001b[43m.\u001b[49m\u001b[43mfrom_dict\u001b[49m\u001b[43m(\u001b[49m\u001b[43mobj\u001b[49m\u001b[43m=\u001b[49m\u001b[43mres\u001b[49m\u001b[43m.\u001b[49m\u001b[43mresponse\u001b[49m\u001b[43m,\u001b[49m\u001b[43m \u001b[49m\u001b[43mauth\u001b[49m\u001b[43m=\u001b[49m\u001b[43mauth\u001b[49m\u001b[43m)\u001b[49m\n\u001b[32m    261\u001b[39m \u001b[38;5;28;01mtry\u001b[39;00m:\n",
      "\u001b[36mFile \u001b[39m\u001b[32mC:\\GitHub\\dl2\\src\\domolibrary2\\classes\\DomoUser.py:149\u001b[39m, in \u001b[36mDomoUser.from_dict\u001b[39m\u001b[34m(cls, auth, obj)\u001b[39m\n\u001b[32m    147\u001b[39m \u001b[38;5;129m@classmethod\u001b[39m\n\u001b[32m    148\u001b[39m \u001b[38;5;28;01mdef\u001b[39;00m\u001b[38;5;250m \u001b[39m\u001b[34mfrom_dict\u001b[39m(\u001b[38;5;28mcls\u001b[39m, auth, obj: \u001b[38;5;28mdict\u001b[39m):\n\u001b[32m--> \u001b[39m\u001b[32m149\u001b[39m     \u001b[38;5;28;01mreturn\u001b[39;00m \u001b[38;5;28;43mcls\u001b[39;49m\u001b[43m(\u001b[49m\n\u001b[32m    150\u001b[39m \u001b[43m        \u001b[49m\u001b[43mauth\u001b[49m\u001b[43m=\u001b[49m\u001b[43mauth\u001b[49m\u001b[43m,\u001b[49m\n\u001b[32m    151\u001b[39m \u001b[43m        \u001b[49m\u001b[38;5;28;43mid\u001b[39;49m\u001b[43m=\u001b[49m\u001b[38;5;28;43mstr\u001b[39;49m\u001b[43m(\u001b[49m\u001b[43mobj\u001b[49m\u001b[43m.\u001b[49m\u001b[43mget\u001b[49m\u001b[43m(\u001b[49m\u001b[33;43m\"\u001b[39;49m\u001b[33;43mid\u001b[39;49m\u001b[33;43m\"\u001b[39;49m\u001b[43m)\u001b[49m\u001b[43m \u001b[49m\u001b[38;5;129;43;01mor\u001b[39;49;00m\u001b[43m \u001b[49m\u001b[43mobj\u001b[49m\u001b[43m.\u001b[49m\u001b[43mget\u001b[49m\u001b[43m(\u001b[49m\u001b[33;43m\"\u001b[39;49m\u001b[33;43muserId\u001b[39;49m\u001b[33;43m\"\u001b[39;49m\u001b[43m)\u001b[49m\u001b[43m)\u001b[49m\u001b[43m,\u001b[49m\n\u001b[32m    152\u001b[39m \u001b[43m        \u001b[49m\u001b[43mdisplay_name\u001b[49m\u001b[43m=\u001b[49m\u001b[43mobj\u001b[49m\u001b[43m.\u001b[49m\u001b[43mget\u001b[49m\u001b[43m(\u001b[49m\u001b[33;43m\"\u001b[39;49m\u001b[33;43mdisplayName\u001b[39;49m\u001b[33;43m\"\u001b[39;49m\u001b[43m)\u001b[49m\u001b[43m,\u001b[49m\n\u001b[32m    153\u001b[39m \u001b[43m        \u001b[49m\u001b[43mtitle\u001b[49m\u001b[43m=\u001b[49m\u001b[43mobj\u001b[49m\u001b[43m.\u001b[49m\u001b[43mget\u001b[49m\u001b[43m(\u001b[49m\u001b[33;43m\"\u001b[39;49m\u001b[33;43mtitle\u001b[39;49m\u001b[33;43m\"\u001b[39;49m\u001b[43m)\u001b[49m\u001b[43m,\u001b[49m\n\u001b[32m    154\u001b[39m \u001b[43m        \u001b[49m\u001b[43mdepartment\u001b[49m\u001b[43m=\u001b[49m\u001b[43mobj\u001b[49m\u001b[43m.\u001b[49m\u001b[43mget\u001b[49m\u001b[43m(\u001b[49m\u001b[33;43m\"\u001b[39;49m\u001b[33;43mdepartment\u001b[39;49m\u001b[33;43m\"\u001b[39;49m\u001b[43m)\u001b[49m\u001b[43m,\u001b[49m\n\u001b[32m    155\u001b[39m \u001b[43m        \u001b[49m\u001b[43memail_address\u001b[49m\u001b[43m=\u001b[49m\u001b[43mobj\u001b[49m\u001b[43m.\u001b[49m\u001b[43mget\u001b[49m\u001b[43m(\u001b[49m\u001b[33;43m\"\u001b[39;49m\u001b[33;43memailAddress\u001b[39;49m\u001b[33;43m\"\u001b[39;49m\u001b[43m)\u001b[49m\u001b[43m \u001b[49m\u001b[38;5;129;43;01mor\u001b[39;49;00m\u001b[43m \u001b[49m\u001b[43mobj\u001b[49m\u001b[43m.\u001b[49m\u001b[43mget\u001b[49m\u001b[43m(\u001b[49m\u001b[33;43m\"\u001b[39;49m\u001b[33;43memail\u001b[39;49m\u001b[33;43m\"\u001b[39;49m\u001b[43m)\u001b[49m\u001b[43m,\u001b[49m\n\u001b[32m    156\u001b[39m \u001b[43m        \u001b[49m\u001b[43mrole_id\u001b[49m\u001b[43m=\u001b[49m\u001b[43mobj\u001b[49m\u001b[43m.\u001b[49m\u001b[43mget\u001b[49m\u001b[43m(\u001b[49m\u001b[33;43m\"\u001b[39;49m\u001b[33;43mroleId\u001b[39;49m\u001b[33;43m\"\u001b[39;49m\u001b[43m)\u001b[49m\u001b[43m,\u001b[49m\n\u001b[32m    157\u001b[39m \u001b[43m        \u001b[49m\u001b[43mavatar_key\u001b[49m\u001b[43m=\u001b[49m\u001b[43mobj\u001b[49m\u001b[43m.\u001b[49m\u001b[43mget\u001b[49m\u001b[43m(\u001b[49m\u001b[33;43m\"\u001b[39;49m\u001b[33;43mavatarKey\u001b[39;49m\u001b[33;43m\"\u001b[39;49m\u001b[43m)\u001b[49m\u001b[43m,\u001b[49m\n\u001b[32m    158\u001b[39m \u001b[43m        \u001b[49m\u001b[43mphone_number\u001b[49m\u001b[43m=\u001b[49m\u001b[43mobj\u001b[49m\u001b[43m.\u001b[49m\u001b[43mget\u001b[49m\u001b[43m(\u001b[49m\u001b[33;43m\"\u001b[39;49m\u001b[33;43mphoneNumber\u001b[39;49m\u001b[33;43m\"\u001b[39;49m\u001b[43m)\u001b[49m\u001b[43m,\u001b[49m\n\u001b[32m    159\u001b[39m \u001b[43m        \u001b[49m\u001b[43mweb_landing_page\u001b[49m\u001b[43m=\u001b[49m\u001b[43mobj\u001b[49m\u001b[43m.\u001b[49m\u001b[43mget\u001b[49m\u001b[43m(\u001b[49m\u001b[33;43m\"\u001b[39;49m\u001b[33;43mwebLandingPage\u001b[39;49m\u001b[33;43m\"\u001b[39;49m\u001b[43m)\u001b[49m\u001b[43m,\u001b[49m\n\u001b[32m    160\u001b[39m \u001b[43m        \u001b[49m\u001b[43mweb_mobile_landing_page\u001b[49m\u001b[43m=\u001b[49m\u001b[43mobj\u001b[49m\u001b[43m.\u001b[49m\u001b[43mget\u001b[49m\u001b[43m(\u001b[49m\u001b[33;43m\"\u001b[39;49m\u001b[33;43mwebMobileLandingPage\u001b[39;49m\u001b[33;43m\"\u001b[39;49m\u001b[43m)\u001b[49m\u001b[43m,\u001b[49m\n\u001b[32m    161\u001b[39m \u001b[43m        \u001b[49m\u001b[43memployee_id\u001b[49m\u001b[43m=\u001b[49m\u001b[43mobj\u001b[49m\u001b[43m.\u001b[49m\u001b[43mget\u001b[49m\u001b[43m(\u001b[49m\u001b[33;43m\"\u001b[39;49m\u001b[33;43memployeeId\u001b[39;49m\u001b[33;43m\"\u001b[39;49m\u001b[43m)\u001b[49m\u001b[43m,\u001b[49m\n\u001b[32m    162\u001b[39m \u001b[43m        \u001b[49m\u001b[43memployee_number\u001b[49m\u001b[43m=\u001b[49m\u001b[43mobj\u001b[49m\u001b[43m.\u001b[49m\u001b[43mget\u001b[49m\u001b[43m(\u001b[49m\u001b[33;43m\"\u001b[39;49m\u001b[33;43memployeeNumber\u001b[39;49m\u001b[33;43m\"\u001b[39;49m\u001b[43m)\u001b[49m\u001b[43m,\u001b[49m\n\u001b[32m    163\u001b[39m \u001b[43m        \u001b[49m\u001b[43mhire_date\u001b[49m\u001b[43m=\u001b[49m\u001b[43mobj\u001b[49m\u001b[43m.\u001b[49m\u001b[43mget\u001b[49m\u001b[43m(\u001b[49m\u001b[33;43m\"\u001b[39;49m\u001b[33;43mhireDate\u001b[39;49m\u001b[33;43m\"\u001b[39;49m\u001b[43m)\u001b[49m\u001b[43m,\u001b[49m\n\u001b[32m    164\u001b[39m \u001b[43m        \u001b[49m\u001b[43mreports_to\u001b[49m\u001b[43m=\u001b[49m\u001b[43mobj\u001b[49m\u001b[43m.\u001b[49m\u001b[43mget\u001b[49m\u001b[43m(\u001b[49m\u001b[33;43m\"\u001b[39;49m\u001b[33;43mreportsTo\u001b[39;49m\u001b[33;43m\"\u001b[39;49m\u001b[43m)\u001b[49m\u001b[43m,\u001b[49m\n\u001b[32m    165\u001b[39m \u001b[43m        \u001b[49m\u001b[43mcreated_dt\u001b[49m\u001b[43m=\u001b[49m\u001b[43mconvert_epoch_millisecond_to_datetime\u001b[49m\u001b[43m(\u001b[49m\u001b[43mobj\u001b[49m\u001b[43m.\u001b[49m\u001b[43mget\u001b[49m\u001b[43m(\u001b[49m\u001b[33;43m\"\u001b[39;49m\u001b[33;43mcreated\u001b[39;49m\u001b[33;43m\"\u001b[39;49m\u001b[43m)\u001b[49m\u001b[43m)\u001b[49m\u001b[43m,\u001b[49m\n\u001b[32m    166\u001b[39m \u001b[43m        \u001b[49m\u001b[43mlast_activity_dt\u001b[49m\u001b[43m=\u001b[49m\u001b[43mconvert_epoch_millisecond_to_datetime\u001b[49m\u001b[43m(\u001b[49m\n\u001b[32m    167\u001b[39m \u001b[43m            \u001b[49m\u001b[43mobj\u001b[49m\u001b[43m.\u001b[49m\u001b[43mget\u001b[49m\u001b[43m(\u001b[49m\u001b[33;43m\"\u001b[39;49m\u001b[33;43mlastActivity\u001b[39;49m\u001b[33;43m\"\u001b[39;49m\u001b[43m)\u001b[49m\u001b[43m,\u001b[49m\n\u001b[32m    168\u001b[39m \u001b[43m        \u001b[49m\u001b[43m)\u001b[49m\u001b[43m,\u001b[49m\n\u001b[32m    169\u001b[39m \u001b[43m        \u001b[49m\u001b[43mraw\u001b[49m\u001b[43m=\u001b[49m\u001b[43mobj\u001b[49m\u001b[43m,\u001b[49m\n\u001b[32m    170\u001b[39m \u001b[43m        \u001b[49m\u001b[43mRelations\u001b[49m\u001b[43m=\u001b[49m\u001b[38;5;28;43;01mNone\u001b[39;49;00m\u001b[43m,\u001b[49m\u001b[43m  \u001b[49m\u001b[38;5;66;43;03m# type: ignore\u001b[39;49;00m\n\u001b[32m    171\u001b[39m \u001b[43m    \u001b[49m\u001b[43m)\u001b[49m\n",
      "\u001b[36mFile \u001b[39m\u001b[32m<string>:32\u001b[39m, in \u001b[36m__init__\u001b[39m\u001b[34m(self, auth, id, raw, Relations, display_name, email_address, role_id, department, title, avatar_key, avatar, password, phone_number, web_landing_page, web_mobile_landing_page, employee_id, employee_number, hire_date, reports_to, publisher_domain, subscriber_domain, virtual_user_id, created_dt, last_activity_dt, custom_attributes, domo_api_clients, domo_access_tokens, Role, ApiClients)\u001b[39m\n",
      "\u001b[36mFile \u001b[39m\u001b[32mC:\\GitHub\\dl2\\src\\domolibrary2\\classes\\DomoUser.py:132\u001b[39m, in \u001b[36mDomoUser.__post_init__\u001b[39m\u001b[34m(self)\u001b[39m\n\u001b[32m    131\u001b[39m \u001b[38;5;28;01mdef\u001b[39;00m\u001b[38;5;250m \u001b[39m\u001b[34m__post_init__\u001b[39m(\u001b[38;5;28mself\u001b[39m):\n\u001b[32m--> \u001b[39m\u001b[32m132\u001b[39m     \u001b[38;5;28;01mfrom\u001b[39;00m\u001b[38;5;250m \u001b[39m\u001b[34;01m.\u001b[39;00m\u001b[34;01mDomoInstanceConfig\u001b[39;00m\u001b[34;01m.\u001b[39;00m\u001b[34;01mapi_client\u001b[39;00m\u001b[38;5;250m \u001b[39m\u001b[38;5;28;01mimport\u001b[39;00m ApiClients\n\u001b[32m    134\u001b[39m     \u001b[38;5;28mself\u001b[39m.id = \u001b[38;5;28mstr\u001b[39m(\u001b[38;5;28mself\u001b[39m.id)\n",
      "\u001b[36mFile \u001b[39m\u001b[32mC:\\GitHub\\dl2\\src\\domolibrary2\\classes\\DomoInstanceConfig\\__init__.py:3\u001b[39m\n\u001b[32m      1\u001b[39m \u001b[33;03m\"\"\"DomoInstanceConfig classes for managing instance-level configuration.\"\"\"\u001b[39;00m\n\u001b[32m----> \u001b[39m\u001b[32m3\u001b[39m \u001b[38;5;28;01mfrom\u001b[39;00m\u001b[38;5;250m \u001b[39m\u001b[34;01m.\u001b[39;00m\u001b[38;5;250m \u001b[39m\u001b[38;5;28;01mimport\u001b[39;00m (\n\u001b[32m      4\u001b[39m     access_token,\n\u001b[32m      5\u001b[39m     allowlist,\n\u001b[32m      6\u001b[39m     api_client,\n\u001b[32m      7\u001b[39m     core,\n\u001b[32m      8\u001b[39m     instance_switcher,\n\u001b[32m      9\u001b[39m     mfa,\n\u001b[32m     10\u001b[39m     role,\n\u001b[32m     11\u001b[39m     role_grant,\n\u001b[32m     12\u001b[39m     scheduler_policies,\n\u001b[32m     13\u001b[39m     sso,\n\u001b[32m     14\u001b[39m     toggle,\n\u001b[32m     15\u001b[39m     user_attributes,\n\u001b[32m     16\u001b[39m )\n\u001b[32m     18\u001b[39m \u001b[38;5;66;03m# Import main class\u001b[39;00m\n",
      "\u001b[36mFile \u001b[39m\u001b[32mC:\\GitHub\\dl2\\src\\domolibrary2\\classes\\DomoInstanceConfig\\allowlist.py:8\u001b[39m\n\u001b[32m      7\u001b[39m \u001b[38;5;28;01mfrom\u001b[39;00m\u001b[38;5;250m \u001b[39m\u001b[34;01mdataclasses\u001b[39;00m\u001b[38;5;250m \u001b[39m\u001b[38;5;28;01mimport\u001b[39;00m dataclass, field\n\u001b[32m----> \u001b[39m\u001b[32m8\u001b[39m \u001b[38;5;28;01mfrom\u001b[39;00m\u001b[38;5;250m \u001b[39m\u001b[34;01mtyping\u001b[39;00m\u001b[38;5;250m \u001b[39m\u001b[38;5;28;01mimport\u001b[39;00m Optional, \u001b[38;5;28mlist\u001b[39m\n\u001b[32m     10\u001b[39m \u001b[38;5;28;01mimport\u001b[39;00m\u001b[38;5;250m \u001b[39m\u001b[34;01mhttpx\u001b[39;00m\n",
      "\u001b[31mImportError\u001b[39m: cannot import name 'list' from 'typing' (C:\\Users\\jwilson1\\AppData\\Local\\Programs\\Python\\Python313\\Lib\\typing.py)",
      "\nDuring handling of the above exception, another exception occurred:\n",
      "\u001b[31mUnboundLocalError\u001b[39m                         Traceback (most recent call last)",
      "\u001b[36mCell\u001b[39m\u001b[36m \u001b[39m\u001b[32mIn[4]\u001b[39m\u001b[32m, line 10\u001b[39m\n\u001b[32m      3\u001b[39m child_auth = dmda.DomoTokenAuth(\n\u001b[32m      4\u001b[39m     domo_instance=os.environ[\u001b[33m\"\u001b[39m\u001b[33mDOMO_CHILD_INSTANCE\u001b[39m\u001b[33m\"\u001b[39m],\n\u001b[32m      5\u001b[39m     domo_access_token=os.environ[\u001b[33m\"\u001b[39m\u001b[33mDOMO_CHILD_ACCESS_TOKEN\u001b[39m\u001b[33m\"\u001b[39m],\n\u001b[32m      6\u001b[39m )\n\u001b[32m      8\u001b[39m \u001b[38;5;28;01mawait\u001b[39;00m child_auth.who_am_i()\n\u001b[32m---> \u001b[39m\u001b[32m10\u001b[39m child_card = \u001b[38;5;28;01mawait\u001b[39;00m dmdc.DomoCard.get_by_id(\n\u001b[32m     11\u001b[39m     card_id = os.environ[\u001b[33m\"\u001b[39m\u001b[33mCHILD_CARD_ID\u001b[39m\u001b[33m\"\u001b[39m],\n\u001b[32m     12\u001b[39m     auth=child_auth,\n\u001b[32m     13\u001b[39m )\n\u001b[32m     14\u001b[39m child_card.raw\n\u001b[32m     15\u001b[39m \u001b[38;5;66;03m# parent_auth = dmda.DomoTokenAuth(\u001b[39;00m\n\u001b[32m     16\u001b[39m \u001b[38;5;66;03m#     domo_instance=os.environ[\"DOMO_PARENT_INSTANCE\"],\u001b[39;00m\n\u001b[32m     17\u001b[39m \u001b[38;5;66;03m#     domo_access_token=os.environ[\"DOMO_PARENT_ACCESS_TOKEN\"],\u001b[39;00m\n\u001b[32m     18\u001b[39m \u001b[38;5;66;03m# )\u001b[39;00m\n\u001b[32m     19\u001b[39m \n\u001b[32m     20\u001b[39m \u001b[38;5;66;03m# assert await parent_auth.who_am_i()\u001b[39;00m\n",
      "\u001b[36mFile \u001b[39m\u001b[32mc:\\GitHub\\dl2\\.venv\\Lib\\site-packages\\dc_logger\\decorators.py:233\u001b[39m, in \u001b[36m_create_log_call_decorator.<locals>.async_wrapper\u001b[39m\u001b[34m(*args, **kwargs)\u001b[39m\n\u001b[32m    229\u001b[39m func.\u001b[34m__globals__\u001b[39m[\u001b[33m\"\u001b[39m\u001b[33mlogger\u001b[39m\u001b[33m\"\u001b[39m] = injected_logger\n\u001b[32m    231\u001b[39m \u001b[38;5;28;01mtry\u001b[39;00m:\n\u001b[32m    232\u001b[39m     \u001b[38;5;66;03m# Execute the function with logging\u001b[39;00m\n\u001b[32m--> \u001b[39m\u001b[32m233\u001b[39m     \u001b[38;5;28;01mreturn\u001b[39;00m \u001b[38;5;28;01mawait\u001b[39;00m _execute_with_logging(\n\u001b[32m    234\u001b[39m         func, args, kwargs, config, logger, logger_getter, is_async=\u001b[38;5;28;01mTrue\u001b[39;00m\n\u001b[32m    235\u001b[39m     )\n\u001b[32m    236\u001b[39m \u001b[38;5;28;01mfinally\u001b[39;00m:\n\u001b[32m    237\u001b[39m     \u001b[38;5;66;03m# Restore original globals\u001b[39;00m\n\u001b[32m    238\u001b[39m     func.\u001b[34m__globals__\u001b[39m.clear()\n",
      "\u001b[36mFile \u001b[39m\u001b[32mc:\\GitHub\\dl2\\.venv\\Lib\\site-packages\\dc_logger\\decorators.py:467\u001b[39m, in \u001b[36m_execute_with_logging\u001b[39m\u001b[34m(func, args, kwargs, config, logger, logger_getter, is_async)\u001b[39m\n\u001b[32m    465\u001b[39m \u001b[38;5;28;01mif\u001b[39;00m is_async \u001b[38;5;129;01mand\u001b[39;00m \u001b[38;5;28mhasattr\u001b[39m(logger, \u001b[33m\"\u001b[39m\u001b[33mlog\u001b[39m\u001b[33m\"\u001b[39m):\n\u001b[32m    466\u001b[39m     merged_extra = error_extra.copy()\n\u001b[32m--> \u001b[39m\u001b[32m467\u001b[39m     \u001b[38;5;28;01mif\u001b[39;00m \u001b[33m\"\u001b[39m\u001b[33mextra\u001b[39m\u001b[33m\"\u001b[39m \u001b[38;5;129;01min\u001b[39;00m \u001b[43mresult_context\u001b[49m:\n\u001b[32m    468\u001b[39m         merged_extra.update(result_context[\u001b[33m\"\u001b[39m\u001b[33mextra\u001b[39m\u001b[33m\"\u001b[39m])\n\u001b[32m    469\u001b[39m         result_context_without_extra = {\n\u001b[32m    470\u001b[39m             k: v \u001b[38;5;28;01mfor\u001b[39;00m k, v \u001b[38;5;129;01min\u001b[39;00m result_context.items() \u001b[38;5;28;01mif\u001b[39;00m k != \u001b[33m\"\u001b[39m\u001b[33mextra\u001b[39m\u001b[33m\"\u001b[39m\n\u001b[32m    471\u001b[39m         }\n",
      "\u001b[31mUnboundLocalError\u001b[39m: cannot access local variable 'result_context' where it is not associated with a value"
     ]
    }
   ],
   "source": [
    "import domolibrary2.classes.DomoCard as dmdc\n",
    "\n",
    "child_auth = dmda.DomoTokenAuth(\n",
    "    domo_instance=os.environ[\"DOMO_CHILD_INSTANCE\"],\n",
    "    domo_access_token=os.environ[\"DOMO_CHILD_ACCESS_TOKEN\"],\n",
    ")\n",
    "\n",
    "await child_auth.who_am_i()\n",
    "\n",
    "child_card = await dmdc.DomoCard.get_by_id(\n",
    "    card_id = os.environ[\"CHILD_CARD_ID\"],\n",
    "    auth=child_auth,\n",
    ")\n",
    "child_card.raw\n",
    "# parent_auth = dmda.DomoTokenAuth(\n",
    "#     domo_instance=os.environ[\"DOMO_PARENT_INSTANCE\"],\n",
    "#     domo_access_token=os.environ[\"DOMO_PARENT_ACCESS_TOKEN\"],\n",
    "# )\n",
    "\n",
    "# assert await parent_auth.who_am_i()\n"
   ]
  }
 ],
 "metadata": {
  "kernelspec": {
   "display_name": "dl2",
   "language": "python",
   "name": "python3"
  },
  "language_info": {
   "codemirror_mode": {
    "name": "ipython",
    "version": 3
   },
   "file_extension": ".py",
   "mimetype": "text/x-python",
   "name": "python",
   "nbconvert_exporter": "python",
   "pygments_lexer": "ipython3",
   "version": "3.13.9"
  }
 },
 "nbformat": 4,
 "nbformat_minor": 5
}

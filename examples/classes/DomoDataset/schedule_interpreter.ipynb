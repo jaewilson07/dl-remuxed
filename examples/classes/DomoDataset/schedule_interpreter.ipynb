{
 "cells": [
  {
   "cell_type": "code",
   "execution_count": 1,
   "id": "93edaf1c",
   "metadata": {},
   "outputs": [],
   "source": [
    "import os\n",
    "\n",
    "from dotenv import load_dotenv\n",
    "assert load_dotenv(override=True)"
   ]
  },
  {
   "cell_type": "code",
   "execution_count": 2,
   "id": "3812383f",
   "metadata": {},
   "outputs": [
    {
     "name": "stdout",
     "output_type": "stream",
     "text": [
      "[2025-10-31T11:25:09.577694Z] INFO - get_data completed (action=get_data, status=success, duration=517ms)\n",
      "[2025-10-31T11:25:09.577871Z] INFO - who_am_i completed (action=who_am_i, status=success, duration=518ms)\n",
      "[2025-10-31T11:25:09.578117Z] INFO - _DomoAuth_Optional.who_am_i completed (action=_DomoAuth_Optional.who_am_i, status=success, duration=519ms)\n"
     ]
    },
    {
     "data": {
      "text/plain": [
       "ResponseGetData(status=200, response={'id': 1893952720, 'invitorUserId': 587894148, 'displayName': 'Jae Wilson1', 'department': 'Business Improvement', 'userName': 'jae@onyxreporting.com', 'emailAddress': 'jae@datacrew.space', 'avatarKey': 'c605f478-0cd2-4451-9fd4-d82090b71e66', 'accepted': True, 'userType': 'USER', 'modified': 1761925366286, 'created': 1588960518, 'active': True, 'systemUser': False, 'anonymous': False, 'pending': False}, is_success=True, request_metadata=RequestMetadata(url='https://domo-community.domo.com/api/content/v2/users/me', body='null', params=None))"
      ]
     },
     "execution_count": 2,
     "metadata": {},
     "output_type": "execute_result"
    }
   ],
   "source": [
    "import domolibrary2.client.auth as dmda\n",
    "\n",
    "auth = dmda.DomoTokenAuth(\n",
    "    domo_instance=os.environ[\"DOMO_INSTANCE\"],\n",
    "    domo_access_token=os.environ[\"DOMO_ACCESS_TOKEN\"],\n",
    ")\n",
    "\n",
    "await auth.who_am_i()"
   ]
  },
  {
   "cell_type": "code",
   "execution_count": 3,
   "id": "c8edc9f4",
   "metadata": {},
   "outputs": [
    {
     "name": "stdout",
     "output_type": "stream",
     "text": [
      "[2025-10-31T11:25:10.546121Z] INFO - get_data completed (action=get_data, status=success, duration=497ms)\n",
      "[2025-10-31T11:25:10.546540Z] INFO - get_dataset_by_id completed (action=get_dataset_by_id, entity=dataset:e1b88aab-42b5-4733-9817-cae8937ecb08, status=success, duration=497ms)\n"
     ]
    },
    {
     "data": {
      "text/plain": [
       "DomoDataset(id='e1b88aab-42b5-4733-9817-cae8937ecb08', display_type='cnn', data_provider_type='cnn', name='cnn_world', description='', row_count=69, column_count=8, stream_id=1934, cloud_id='domo', last_touched_dt=datetime.datetime(2025, 10, 31, 3, 2, 11), last_updated_dt=datetime.datetime(2025, 10, 31, 3, 2, 11, 90000), created_dt=datetime.datetime(2025, 2, 12, 17, 48, 28), owner={'id': '1893952720', 'name': 'Jae Wilson1', 'type': 'USER', 'group': False}, formulas={}, Data=DomoDataset_Data(parent=...), Schema=DomoDataset_Schema(parent=..., columns=[]), Stream=DomoStream(id=1934, transport_description=None, transport_version=None, update_method=None, data_provider_name=None, data_provider_key=None, account_id=None, account_display_name=None, account_userid=None, has_mapping=False, configuration=[], configuration_tables=[], configuration_query=None, parent=..., Schedule=DomoSimpleSchedule(schedule_start_date=None, frequency=<ScheduleFrequencyEnum.MANUAL: 'MANUAL'>, schedule_type=<ScheduleType.SIMPLE: 'SIMPLE'>, interval=1, minute=None, hour=None, day_of_week=None, day_of_month=None, month=None, timezone=None, is_active=True, next_run_time=None, parent=..., schedule_expression=None)), Tags=DomoTags(parent=..., tags=[]), PDP=DatasetPdpPolicies(parent=..., policies=[], is_pdp_enabled=False), Certification=DomoCertification(parent=..., certification_state=None, last_updated=None, certification_type=None, certification_name=None), Schedule=None)"
      ]
     },
     "execution_count": 3,
     "metadata": {},
     "output_type": "execute_result"
    }
   ],
   "source": [
    "import domolibrary2.classes.DomoDataset as dmds\n",
    "\n",
    "ds = await dmds.DomoDataset.get_by_id(auth = auth, dataset_id = os.environ[\"DATASET_ID_2\"])\n",
    "ds"
   ]
  },
  {
   "cell_type": "code",
   "execution_count": null,
   "id": "1c1493de",
   "metadata": {},
   "outputs": [
    {
     "data": {
      "text/plain": [
       "DomoStream(id=1934, transport_description=None, transport_version=None, update_method=None, data_provider_name=None, data_provider_key=None, account_id=None, account_display_name=None, account_userid=None, has_mapping=False, configuration=[], configuration_tables=[], configuration_query=None, parent=DomoDataset(id='e1b88aab-42b5-4733-9817-cae8937ecb08', display_type='cnn', data_provider_type='cnn', name='cnn_world', description='', row_count=69, column_count=8, stream_id=1934, cloud_id='domo', last_touched_dt=datetime.datetime(2025, 10, 31, 3, 2, 11), last_updated_dt=datetime.datetime(2025, 10, 31, 3, 2, 11, 90000), created_dt=datetime.datetime(2025, 2, 12, 17, 48, 28), owner={'id': '1893952720', 'name': 'Jae Wilson1', 'type': 'USER', 'group': False}, formulas={}, Data=DomoDataset_Data(parent=...), Schema=DomoDataset_Schema(parent=..., columns=[]), Stream=..., Tags=DomoTags(parent=..., tags=[]), PDP=DatasetPdpPolicies(parent=..., policies=[], is_pdp_enabled=False), Certification=DomoCertification(parent=..., certification_state=None, last_updated=None, certification_type=None, certification_name=None), Schedule=None), Schedule=DomoSimpleSchedule(schedule_start_date=None, frequency=<ScheduleFrequencyEnum.MANUAL: 'MANUAL'>, schedule_type=<ScheduleType.SIMPLE: 'SIMPLE'>, interval=1, minute=None, hour=None, day_of_week=None, day_of_month=None, month=None, timezone=None, is_active=True, next_run_time=None, parent=DomoDataset(id='e1b88aab-42b5-4733-9817-cae8937ecb08', display_type='cnn', data_provider_type='cnn', name='cnn_world', description='', row_count=69, column_count=8, stream_id=1934, cloud_id='domo', last_touched_dt=datetime.datetime(2025, 10, 31, 3, 2, 11), last_updated_dt=datetime.datetime(2025, 10, 31, 3, 2, 11, 90000), created_dt=datetime.datetime(2025, 2, 12, 17, 48, 28), owner={'id': '1893952720', 'name': 'Jae Wilson1', 'type': 'USER', 'group': False}, formulas={}, Data=DomoDataset_Data(parent=...), Schema=DomoDataset_Schema(parent=..., columns=[]), Stream=..., Tags=DomoTags(parent=..., tags=[]), PDP=DatasetPdpPolicies(parent=..., policies=[], is_pdp_enabled=False), Certification=DomoCertification(parent=..., certification_state=None, last_updated=None, certification_type=None, certification_name=None), Schedule=None), schedule_expression=None))"
      ]
     },
     "execution_count": 4,
     "metadata": {},
     "output_type": "execute_result"
    }
   ],
   "source": [
    "await ds.Stream.get()"
   ]
  }
 ],
 "metadata": {
  "kernelspec": {
   "display_name": "dl2",
   "language": "python",
   "name": "python3"
  },
  "language_info": {
   "codemirror_mode": {
    "name": "ipython",
    "version": 3
   },
   "file_extension": ".py",
   "mimetype": "text/x-python",
   "name": "python",
   "nbconvert_exporter": "python",
   "pygments_lexer": "ipython3",
   "version": "3.13.9"
  }
 },
 "nbformat": 4,
 "nbformat_minor": 5
}

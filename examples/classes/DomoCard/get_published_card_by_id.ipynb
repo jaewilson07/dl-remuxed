{
 "cells": [
  {
   "cell_type": "code",
   "execution_count": 1,
   "id": "362cf67f",
   "metadata": {},
   "outputs": [
    {
     "name": "stdout",
     "output_type": "stream",
     "text": [
      "Note: you may need to restart the kernel to use updated packages.\n"
     ]
    },
    {
     "name": "stderr",
     "output_type": "stream",
     "text": [
      "c:\\GitHub\\dl2\\.venv\\Scripts\\python.exe: No module named pip\n"
     ]
    }
   ],
   "source": [
    "%pip install -e ../../src/domolibrary2"
   ]
  },
  {
   "cell_type": "code",
   "execution_count": 2,
   "id": "bc910de2",
   "metadata": {},
   "outputs": [
    {
     "data": {
      "text/plain": [
       "'1.0.4'"
      ]
     },
     "execution_count": 2,
     "metadata": {},
     "output_type": "execute_result"
    }
   ],
   "source": [
    "import dc_logger\n",
    "dc_logger.__version__"
   ]
  },
  {
   "cell_type": "code",
   "execution_count": 3,
   "id": "b5f4bff3",
   "metadata": {},
   "outputs": [],
   "source": [
    "import domolibrary2.classes.DomoDataset as dmds\n",
    "\n",
    "import domolibrary2.client.auth as dmda\n",
    "import os\n",
    "\n",
    "from pprint import pprint\n",
    "from dotenv import load_dotenv\n",
    "\n",
    "assert load_dotenv()\n",
    "\n",
    "from dc_logger.client.base import get_global_logger, set_global_logger\n",
    "from dc_logger.client.base import HandlerBufferSettings, HandlerInstance, Logger\n",
    "from dc_logger.logs.services.file import FileServiceConfig, FileHandler\n",
    "\n",
    "\n",
    "json_config = FileServiceConfig(\n",
    "    destination=\"LOGGER/classes/DomoDataset/get_federated_dataset_by_id.json\",\n",
    "    output_mode=\"file\",\n",
    "    format=\"json\",\n",
    "    append=True,\n",
    ")\n",
    "\n",
    "json_file_handler = FileHandler(\n",
    "    buffer_settings=HandlerBufferSettings(), service_config=json_config\n",
    ")\n",
    "\n",
    "json_handler_instance = HandlerInstance(\n",
    "    service_handler=json_file_handler, handler_name=\"json_file\"\n",
    ")\n",
    "\n",
    "logger: Logger = get_global_logger()\n",
    "logger.handlers = [json_handler_instance]\n",
    "set_global_logger(logger)\n"
   ]
  },
  {
   "cell_type": "code",
   "execution_count": 4,
   "id": "8fab5c52",
   "metadata": {},
   "outputs": [
    {
     "name": "stdout",
     "output_type": "stream",
     "text": [
      "[{'id': '620160727', 'type': 'USER', 'displayName': 'Isaac Rivas'}]\n"
     ]
    },
    {
     "data": {
      "text/plain": [
       "{'domoapp': {'id': None},\n",
       " 'drillPath': {},\n",
       " 'owners': [{'id': '620160727', 'type': 'USER', 'displayName': 'Isaac Rivas'}],\n",
       " 'datasources': [{'dataSourceId': 'c62a8fd1-2484-42ec-9235-0674c2e3e0b3',\n",
       "   'dataSourceName': 'SNOWFLAKE_SAMPLE_DATA.TPCDS_SF100TCL.CALL_CENTER',\n",
       "   'displayType': 'domo-federateddata',\n",
       "   'dataType': 'domo-federateddata',\n",
       "   'providerType': 'domo-federateddata',\n",
       "   'isSampleData': False,\n",
       "   'lastUpdated': 1758609029545,\n",
       "   'adc': False,\n",
       "   'phase': None,\n",
       "   'state': 'IDLE'}],\n",
       " 'certification': {'state': 'NOT_CERTIFIED', 'adminCertified': False},\n",
       " 'urn': '1440955006',\n",
       " 'id': 1440955006,\n",
       " 'type': 'kpi',\n",
       " 'created': 1758609135,\n",
       " 'badgeUpdated': 1758609137000,\n",
       " 'creatorId': 620160727,\n",
       " 'ownerId': 620160727,\n",
       " 'title': 'SNOWFLAKE_SAMPLE_DATA.TPCDS_SF100TCL.CALL_CENTER',\n",
       " 'active': True,\n",
       " 'allowTableDrill': True,\n",
       " 'locked': False,\n",
       " 'isCurrentUserOwner': True}"
      ]
     },
     "execution_count": 4,
     "metadata": {},
     "output_type": "execute_result"
    }
   ],
   "source": [
    "import domolibrary2.classes.DomoCard as dmdc\n",
    "\n",
    "child_auth = dmda.DomoTokenAuth(\n",
    "    domo_instance=os.environ[\"DOMO_CHILD_INSTANCE\"],\n",
    "    domo_access_token=os.environ[\"DOMO_CHILD_ACCESS_TOKEN\"],\n",
    ")\n",
    "\n",
    "await child_auth.who_am_i()\n",
    "\n",
    "child_card = await dmdc.DomoCard.get_by_id(\n",
    "    card_id = os.environ[\"CHILD_CARD_ID\"], \n",
    "    auth=child_auth,\n",
    ")\n",
    "child_card.raw\n",
    "# parent_auth = dmda.DomoTokenAuth(\n",
    "#     domo_instance=os.environ[\"DOMO_PARENT_INSTANCE\"],\n",
    "#     domo_access_token=os.environ[\"DOMO_PARENT_ACCESS_TOKEN\"],\n",
    "# )\n",
    "\n",
    "# assert await parent_auth.who_am_i()\n"
   ]
  }
 ],
 "metadata": {
  "kernelspec": {
   "display_name": "dl2",
   "language": "python",
   "name": "python3"
  },
  "language_info": {
   "codemirror_mode": {
    "name": "ipython",
    "version": 3
   },
   "file_extension": ".py",
   "mimetype": "text/x-python",
   "name": "python",
   "nbconvert_exporter": "python",
   "pygments_lexer": "ipython3",
   "version": "3.13.9"
  }
 },
 "nbformat": 4,
 "nbformat_minor": 5
}

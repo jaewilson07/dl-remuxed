{
 "cells": [
  {
   "cell_type": "code",
   "execution_count": null,
   "id": "93edaf1c",
   "metadata": {},
   "outputs": [],
   "source": [
    "import os\n",
    "\n",
    "from dotenv import load_dotenv\n",
    "assert load_dotenv(override=True)"
   ]
  },
  {
   "cell_type": "code",
   "execution_count": null,
   "id": "3812383f",
   "metadata": {},
   "outputs": [
    {
     "name": "stdout",
     "output_type": "stream",
     "text": [
      "[2025-10-31T13:41:13.540475Z] INFO - get_data completed (action=get_data, status=success, duration=490ms)\n",
      "[2025-10-31T13:41:13.540856Z] INFO - who_am_i completed (action=who_am_i, status=success, duration=491ms)\n",
      "[2025-10-31T13:41:13.541081Z] INFO - _DomoAuth_Optional.who_am_i completed (action=_DomoAuth_Optional.who_am_i, status=success, duration=492ms)\n"
     ]
    },
    {
     "data": {
      "text/plain": [
       "ResponseGetData(status=200, response={'id': 1893952720, 'invitorUserId': 587894148, 'displayName': 'Jae Wilson1', 'department': 'Business Improvement', 'userName': 'jae@onyxreporting.com', 'emailAddress': 'jae@datacrew.space', 'avatarKey': 'c605f478-0cd2-4451-9fd4-d82090b71e66', 'accepted': True, 'userType': 'USER', 'modified': 1761935397325, 'created': 1588960518, 'active': True, 'systemUser': False, 'anonymous': False, 'pending': False}, is_success=True, request_metadata=RequestMetadata(url='https://domo-community.domo.com/api/content/v2/users/me', body='null', params=None))"
      ]
     },
     "execution_count": 2,
     "metadata": {},
     "output_type": "execute_result"
    }
   ],
   "source": [
    "import domolibrary2.client.auth as dmda\n",
    "\n",
    "auth = dmda.DomoTokenAuth(\n",
    "    domo_instance=os.environ[\"DOMO_INSTANCE\"],\n",
    "    domo_access_token=os.environ[\"DOMO_ACCESS_TOKEN\"],\n",
    ")\n",
    "\n",
    "await auth.who_am_i()"
   ]
  },
  {
   "cell_type": "code",
   "execution_count": null,
   "id": "c8edc9f4",
   "metadata": {},
   "outputs": [
    {
     "name": "stdout",
     "output_type": "stream",
     "text": [
      "[2025-10-31T13:41:14.535904Z] INFO - get_data completed (action=get_data, status=success, duration=547ms)\n",
      "[2025-10-31T13:41:14.536083Z] INFO - get_dataset_by_id completed (action=get_dataset_by_id, entity=dataset:d3ae1d1d-21ba-4b63-9c44-782cf3289b82, status=success, duration=547ms)\n",
      "[2025-10-31T13:41:15.111026Z] INFO - get_data completed (action=get_data, status=success, duration=574ms)\n"
     ]
    },
    {
     "data": {
      "text/plain": [
       "'https://domo-community.domo.com/datasources/d3ae1d1d-21ba-4b63-9c44-782cf3289b82/details/overview'"
      ]
     },
     "execution_count": 3,
     "metadata": {},
     "output_type": "execute_result"
    }
   ],
   "source": [
    "import domolibrary2.classes.DomoDataset as dmds\n",
    "\n",
    "ds = await dmds.DomoDataset.get_by_id(auth = auth, dataset_id = os.environ[\"DATASET_ID_3\"])\n",
    "ds.display_url"
   ]
  },
  {
   "cell_type": "code",
   "execution_count": null,
   "id": "94097888",
   "metadata": {},
   "outputs": [
    {
     "data": {
      "text/plain": [
       "{'frequency': 'DAILY',\n",
       " 'scheduleType': 'ADVANCED',\n",
       " 'interval': 1,\n",
       " 'minute': 9,\n",
       " 'hour': 12,\n",
       " 'dayOfWeek': None,\n",
       " 'dayOfMonth': None,\n",
       " 'month': None,\n",
       " 'scheduleStartDate': None,\n",
       " 'timezone': 'UTC',\n",
       " 'isActive': True,\n",
       " 'nextRunTime': None,\n",
       " 'advancedScheduleJson': {'type': 'WEEKDAY',\n",
       "  'at': '12:09 PM',\n",
       "  'timezone': 'UTC'}}"
      ]
     },
     "execution_count": 4,
     "metadata": {},
     "output_type": "execute_result"
    }
   ],
   "source": [
    "ds.Stream.Schedule.export_as_dict()"
   ]
  },
  {
   "cell_type": "code",
   "execution_count": null,
   "id": "9c2e62eb",
   "metadata": {},
   "outputs": [],
   "source": [
    "# ds.Schedule.raw"
   ]
  }
 ],
 "metadata": {
  "kernelspec": {
   "display_name": "dl2",
   "language": "python",
   "name": "python3"
  },
  "language_info": {
   "codemirror_mode": {
    "name": "ipython",
    "version": 3
   },
   "file_extension": ".py",
   "mimetype": "text/x-python",
   "name": "python",
   "nbconvert_exporter": "python",
   "pygments_lexer": "ipython3",
   "version": "3.13.9"
  }
 },
 "nbformat": 4,
 "nbformat_minor": 5
}

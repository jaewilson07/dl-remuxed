{
 "cells": [
  {
   "cell_type": "code",
   "execution_count": 1,
   "id": "93edaf1c",
   "metadata": {},
   "outputs": [],
   "source": [
    "import os\n",
    "\n",
    "from dotenv import load_dotenv\n",
    "assert load_dotenv(override=True)"
   ]
  },
  {
   "cell_type": "code",
   "execution_count": 2,
   "id": "3812383f",
   "metadata": {},
   "outputs": [
    {
     "name": "stdout",
     "output_type": "stream",
     "text": [
      "[2025-10-31T13:39:32.248818Z] INFO - get_data completed (action=get_data, status=success, duration=527ms)\n",
      "[2025-10-31T13:39:32.249096Z] INFO - who_am_i completed (action=who_am_i, status=success, duration=528ms)\n",
      "[2025-10-31T13:39:32.249390Z] INFO - _DomoAuth_Optional.who_am_i completed (action=_DomoAuth_Optional.who_am_i, status=success, duration=530ms)\n"
     ]
    },
    {
     "data": {
      "text/plain": [
       "ResponseGetData(status=200, response={'id': 1893952720, 'invitorUserId': 587894148, 'displayName': 'Jae Wilson1', 'department': 'Business Improvement', 'userName': 'jae@onyxreporting.com', 'emailAddress': 'jae@datacrew.space', 'avatarKey': 'c605f478-0cd2-4451-9fd4-d82090b71e66', 'accepted': True, 'userType': 'USER', 'modified': 1761935397325, 'created': 1588960518, 'active': True, 'systemUser': False, 'anonymous': False, 'pending': False}, is_success=True, request_metadata=RequestMetadata(url='https://domo-community.domo.com/api/content/v2/users/me', body='null', params=None))"
      ]
     },
     "execution_count": 2,
     "metadata": {},
     "output_type": "execute_result"
    }
   ],
   "source": [
    "import domolibrary2.client.auth as dmda\n",
    "\n",
    "auth = dmda.DomoTokenAuth(\n",
    "    domo_instance=os.environ[\"DOMO_INSTANCE\"],\n",
    "    domo_access_token=os.environ[\"DOMO_ACCESS_TOKEN\"],\n",
    ")\n",
    "\n",
    "await auth.who_am_i()"
   ]
  },
  {
   "cell_type": "code",
   "execution_count": 3,
   "id": "c8edc9f4",
   "metadata": {},
   "outputs": [
    {
     "name": "stdout",
     "output_type": "stream",
     "text": [
      "[2025-10-31T13:39:33.280833Z] INFO - get_data completed (action=get_data, status=success, duration=557ms)\n"
     ]
    },
    {
     "data": {
      "text/plain": [
       "'https://domo-community.domo.com/datacenter/dataflows/309/details'"
      ]
     },
     "execution_count": 3,
     "metadata": {},
     "output_type": "execute_result"
    }
   ],
   "source": [
    "import domolibrary2.classes.DomoDataflow as dmdf\n",
    "\n",
    "df = await dmdf.DomoDataflow.get_by_id(auth = auth, dataflow_id = os.environ[\"DATAFLOW_ID_1\"])\n",
    "df.display_url"
   ]
  },
  {
   "cell_type": "code",
   "execution_count": 4,
   "id": "94097888",
   "metadata": {},
   "outputs": [
    {
     "data": {
      "text/plain": [
       "{'triggers': [{'triggerId': 1,\n",
       "   'title': 'Trigger Title 1',\n",
       "   'triggerEvents': [{'type': 'DATASET_UPDATED',\n",
       "     'datasetId': '8ff9ccb8-18f1-4e2e-bf30-b2970fa37872',\n",
       "     'triggerOnDataChanged': False,\n",
       "     'humanReadable': 'Dataset 8ff9ccb8-18f1-4e2e-bf30-b2970fa37872 updated (on every update)'}],\n",
       "   'triggerConditions': [],\n",
       "   'humanReadable': \"'Trigger Title 1' | Events: Dataset 8ff9ccb8-18f1-4e2e-bf30-b2970fa37872 updated (on every update)\"},\n",
       "  {'triggerId': 2,\n",
       "   'title': 'Trigger Title 2',\n",
       "   'triggerEvents': [{'type': 'SCHEDULE',\n",
       "     'humanReadable': 'Schedule: 0 47 12 ? * MON *',\n",
       "     'scheduleId': '1ee1b6b5-8925-44ed-8cbb-b81a7d89a6a7',\n",
       "     'schedule': {'frequency': 'CUSTOM_CRON',\n",
       "      'scheduleType': 'CRON',\n",
       "      'interval': 1,\n",
       "      'minute': None,\n",
       "      'hour': None,\n",
       "      'dayOfWeek': None,\n",
       "      'dayOfMonth': None,\n",
       "      'month': None,\n",
       "      'scheduleStartDate': None,\n",
       "      'timezone': None,\n",
       "      'isActive': True,\n",
       "      'nextRunTime': None,\n",
       "      'expression': '0 47 12 ? * MON *'}}],\n",
       "   'triggerConditions': [],\n",
       "   'humanReadable': \"'Trigger Title 2' | Events: Schedule: 0 47 12 ? * MON *\"}],\n",
       " 'zoneId': 'UTC',\n",
       " 'locale': 'en_US',\n",
       " 'summary': \"Triggers (2):\\n  • 'Trigger Title 1' | Events: Dataset 8ff9ccb8-18f1-4e2e-bf30-b2970fa37872 updated (on every update)\\n  • 'Trigger Title 2' | Events: Schedule: 0 47 12 ? * MON *\",\n",
       " 'stats': {'totalTriggers': 2, 'scheduleTriggers': 1, 'datasetTriggers': 1}}"
      ]
     },
     "execution_count": 4,
     "metadata": {},
     "output_type": "execute_result"
    }
   ],
   "source": [
    "df.TriggerSettings.export_as_dict()"
   ]
  }
 ],
 "metadata": {
  "kernelspec": {
   "display_name": "dl2",
   "language": "python",
   "name": "python3"
  },
  "language_info": {
   "codemirror_mode": {
    "name": "ipython",
    "version": 3
   },
   "file_extension": ".py",
   "mimetype": "text/x-python",
   "name": "python",
   "nbconvert_exporter": "python",
   "pygments_lexer": "ipython3",
   "version": "3.13.9"
  }
 },
 "nbformat": 4,
 "nbformat_minor": 5
}

{
 "cells": [
  {
   "cell_type": "code",
   "execution_count": 5,
   "id": "ea429c2b",
   "metadata": {},
   "outputs": [
    {
     "name": "stdout",
     "output_type": "stream",
     "text": [
      "Note: you may need to restart the kernel to use updated packages.\n"
     ]
    },
    {
     "name": "stderr",
     "output_type": "stream",
     "text": [
      "c:\\GitHub\\dl2\\.venv\\Scripts\\python.exe: No module named pip\n"
     ]
    }
   ],
   "source": [
    "%pip install -e ../../src/domolibrary2"
   ]
  },
  {
   "cell_type": "code",
   "execution_count": 6,
   "id": "ca48a6fd",
   "metadata": {},
   "outputs": [],
   "source": [
    "import domolibrary2.classes.DomoDataset as dmds\n",
    "\n",
    "import domolibrary2.client.auth as dmda\n",
    "import os\n",
    "\n",
    "from dotenv import load_dotenv\n",
    "\n",
    "assert load_dotenv(override=True)\n"
   ]
  },
  {
   "cell_type": "code",
   "execution_count": 7,
   "id": "30c74b67",
   "metadata": {},
   "outputs": [
    {
     "name": "stdout",
     "output_type": "stream",
     "text": [
      "[2025-10-31T16:47:37.851925Z] INFO - get_data completed (action=get_data, status=success, duration=311ms)\n",
      "[2025-10-31T16:47:37.852256Z] INFO - who_am_i completed (action=who_am_i, status=success, duration=312ms)\n",
      "[2025-10-31T16:47:37.852326Z] INFO - _DomoAuth_Optional.who_am_i completed (action=_DomoAuth_Optional.who_am_i, status=success, duration=312ms)\n",
      "[2025-10-31T16:47:38.345091Z] INFO - get_data completed (action=get_data, status=success, duration=492ms)\n",
      "[2025-10-31T16:47:38.345275Z] INFO - get_dataset_by_id completed (action=get_dataset_by_id, entity=dataset:c62a8fd1-2484-42ec-9235-0674c2e3e0b3, status=success, duration=492ms)\n",
      "[2025-10-31T16:47:38.913288Z] INFO - get_data completed (action=get_data, status=success, duration=567ms)\n"
     ]
    },
    {
     "data": {
      "text/plain": [
       "FederatedDomoDataset(id='c62a8fd1-2484-42ec-9235-0674c2e3e0b3', display_type='domo-federateddata', data_provider_type='domo-federateddata', name='SNOWFLAKE_SAMPLE_DATA.TPCDS_SF100TCL.CALL_CENTER', description='', row_count=60, column_count=31, stream_id=333, cloud_id=None, last_touched_dt=datetime.datetime(2025, 9, 23, 0, 30, 30), last_updated_dt=datetime.datetime(2025, 9, 23, 0, 30, 29, 545000), created_dt=datetime.datetime(2025, 9, 23, 0, 30, 28), owner={'id': '832191625', 'name': 'Christian Antelo', 'type': 'USER', 'group': False}, formulas={}, Data=DomoDataset_Data(parent=...), Schema=DomoDataset_Schema(parent=..., columns=[]), Stream=DomoStream(id=333, parent=..., transport_description=None, transport_version=None, update_method='REPLACE', data_provider_name='Federated Data', data_provider_key='domo-federateddata', account_id=None, account_display_name=None, account_userid=None, has_mapping=False, configuration=[], configuration_tables=[], configuration_query=None, Schedule=DomoSimpleSchedule(schedule_start_date=None, frequency=<ScheduleFrequencyEnum.MANUAL: 'MANUAL'>, schedule_type=<ScheduleType.SIMPLE: 'SIMPLE'>, interval=1, minute=None, hour=None, day_of_week=None, day_of_month=None, month=None, timezone=None, is_active=True, next_run_time=None, parent=DomoStream(id=333, parent=None, transport_description=None, transport_version=None, update_method='REPLACE', data_provider_name='Federated Data', data_provider_key='domo-federateddata', account_id=None, account_display_name=None, account_userid=None, has_mapping=False, configuration=[], configuration_tables=[], configuration_query=None, Schedule=...), schedule_expression=None)), Tags=DomoTags(parent=..., tags=[]), PDP=DatasetPdpPolicies(parent=..., policies=[], is_pdp_enabled=False), Certification=DomoCertification(parent=..., certification_state=None, last_updated=None, certification_type=None, certification_name=None))"
      ]
     },
     "execution_count": 7,
     "metadata": {},
     "output_type": "execute_result"
    }
   ],
   "source": [
    "\n",
    "child_auth = dmda.DomoTokenAuth(\n",
    "    domo_instance=os.environ[\"DOMO_CHILD_INSTANCE\"],\n",
    "    domo_access_token=os.environ[\"DOMO_CHILD_ACCESS_TOKEN\"],\n",
    ")\n",
    "\n",
    "await child_auth.who_am_i()\n",
    "\n",
    "child_ds: dmds.FederatedDomoDataset = await dmds.DomoDataset.get_by_id(\n",
    "    dataset_id=os.environ[\"CHILD_DATASET_ID\"], auth=child_auth\n",
    ")\n",
    "child_ds"
   ]
  },
  {
   "cell_type": "code",
   "execution_count": 8,
   "id": "af517b74",
   "metadata": {},
   "outputs": [
    {
     "name": "stdout",
     "output_type": "stream",
     "text": [
      "[2025-10-31T16:47:39.318156Z] INFO - get_data completed (action=get_data, status=success, duration=392ms)\n",
      "[2025-10-31T16:47:39.318499Z] INFO - who_am_i completed (action=who_am_i, status=success, duration=393ms)\n",
      "[2025-10-31T16:47:39.318561Z] INFO - _DomoAuth_Optional.who_am_i completed (action=_DomoAuth_Optional.who_am_i, status=success, duration=394ms)\n",
      "[2025-10-31T16:47:39.697150Z] INFO - get_data completed (action=get_data, status=success, duration=319ms)\n",
      "[2025-10-31T16:47:40.054363Z] INFO - get_data completed (action=get_data, status=success, duration=354ms)\n",
      "[2025-10-31T16:47:40.055280Z] INFO - get_data completed (action=get_data, status=success, duration=356ms)\n",
      "[2025-10-31T16:47:40.057993Z] INFO - get_data completed (action=get_data, status=success, duration=358ms)\n",
      "[2025-10-31T16:47:40.065606Z] INFO - get_data completed (action=get_data, status=success, duration=367ms)\n",
      "[2025-10-31T16:47:41.012322Z] INFO - get_data completed (action=get_data, status=success, duration=628ms)\n",
      "[2025-10-31T16:47:41.012484Z] INFO - get_dataset_by_id completed (action=get_dataset_by_id, entity=dataset:6b9b4112-6683-434f-b6b5-457946c2f2ca, status=success, duration=628ms)\n",
      "[2025-10-31T16:47:41.574696Z] INFO - get_data completed (action=get_data, status=success, duration=562ms)\n"
     ]
    },
    {
     "data": {
      "text/plain": [
       "DomoDataset(id='6b9b4112-6683-434f-b6b5-457946c2f2ca', display_type='snowflake', data_provider_type='snowflake', name='SNOWFLAKE_SAMPLE_DATA.TPCDS_SF100TCL.CALL_CENTER', description='', row_count=60, column_count=31, stream_id=506, cloud_id='c65f7029-a48a-4057-ae9b-5d93c2d3ac91', last_touched_dt=datetime.datetime(2025, 9, 23, 0, 24, 21), last_updated_dt=datetime.datetime(2025, 9, 23, 0, 24, 20, 786000), created_dt=datetime.datetime(2025, 9, 23, 0, 24, 16), owner={'id': '1042003218', 'name': 'Isaac Rivas', 'type': 'USER', 'group': False}, formulas={}, Data=DomoDataset_Data(parent=...), Schema=DomoDataset_Schema(parent=..., columns=[]), Stream=DomoStream(id=506, parent=..., transport_description=None, transport_version=None, update_method='REPLACE', data_provider_name='Snowflake', data_provider_key='snowflake', account_id=None, account_display_name=None, account_userid=None, has_mapping=False, configuration=[], configuration_tables=[], configuration_query=None, Schedule=DomoSimpleSchedule(schedule_start_date=None, frequency=<ScheduleFrequencyEnum.MANUAL: 'MANUAL'>, schedule_type=<ScheduleType.SIMPLE: 'SIMPLE'>, interval=1, minute=None, hour=None, day_of_week=None, day_of_month=None, month=None, timezone=None, is_active=True, next_run_time=None, parent=DomoStream(id=506, parent=None, transport_description=None, transport_version=None, update_method='REPLACE', data_provider_name='Snowflake', data_provider_key='snowflake', account_id=None, account_display_name=None, account_userid=None, has_mapping=False, configuration=[], configuration_tables=[], configuration_query=None, Schedule=...), schedule_expression=None)), Tags=DomoTags(parent=..., tags=[]), PDP=DatasetPdpPolicies(parent=..., policies=[], is_pdp_enabled=False), Certification=DomoCertification(parent=..., certification_state=None, last_updated=None, certification_type=None, certification_name=None))"
      ]
     },
     "execution_count": 8,
     "metadata": {},
     "output_type": "execute_result"
    }
   ],
   "source": [
    "\n",
    "parent_auth = dmda.DomoTokenAuth(\n",
    "    domo_instance=os.environ[\"DOMO_PARENT_INSTANCE\"],\n",
    "    domo_access_token=os.environ[\"DOMO_PARENT_ACCESS_TOKEN\"],\n",
    ")\n",
    "\n",
    "assert await parent_auth.who_am_i()\n",
    "\n",
    "parent_ds: dmds.DomoDataset = await child_ds.get_federated_parent(\n",
    "    parent_auth=parent_auth\n",
    ")\n",
    "\n",
    "parent_ds"
   ]
  },
  {
   "cell_type": "code",
   "execution_count": 9,
   "id": "0607436c",
   "metadata": {},
   "outputs": [
    {
     "name": "stdout",
     "output_type": "stream",
     "text": [
      "[2025-10-31T16:47:41.891306Z] INFO - get_data completed (action=get_data, status=success, duration=307ms)\n",
      "[2025-10-31T16:47:42.221527Z] INFO - get_data completed (action=get_data, status=success, duration=329ms)\n",
      "[2025-10-31T16:47:42.222720Z] INFO - get_data completed (action=get_data, status=success, duration=329ms)\n",
      "[2025-10-31T16:47:42.229883Z] INFO - get_data completed (action=get_data, status=success, duration=336ms)\n",
      "[2025-10-31T16:47:42.241532Z] INFO - get_data completed (action=get_data, status=success, duration=349ms)\n",
      "[2025-10-31T16:47:43.162141Z] INFO - get_data completed (action=get_data, status=success, duration=601ms)\n",
      "[2025-10-31T16:47:43.162324Z] INFO - get_dataset_by_id completed (action=get_dataset_by_id, entity=dataset:6b9b4112-6683-434f-b6b5-457946c2f2ca, status=success, duration=601ms)\n",
      "[2025-10-31T16:47:43.719717Z] INFO - get_data completed (action=get_data, status=success, duration=557ms)\n",
      "[2025-10-31T16:47:44.096033Z] INFO - get_data completed (action=get_data, status=success, duration=376ms)\n"
     ]
    },
    {
     "data": {
      "text/plain": [
       "[DomoLineageLink_Dataset(type='DATA_SOURCE', id='6b9b4112-6683-434f-b6b5-457946c2f2ca', parents=[], children=[])]"
      ]
     },
     "execution_count": 9,
     "metadata": {},
     "output_type": "execute_result"
    }
   ],
   "source": [
    "await child_ds.Lineage.get(parent_auth = parent_auth, is_recursive=True)"
   ]
  },
  {
   "cell_type": "code",
   "execution_count": 10,
   "id": "c15b22f9",
   "metadata": {},
   "outputs": [
    {
     "data": {
      "text/plain": [
       "[DomoLineageLink_Dataset(type='DATA_SOURCE', id='6b9b4112-6683-434f-b6b5-457946c2f2ca', parents=[], children=[])]"
      ]
     },
     "execution_count": 10,
     "metadata": {},
     "output_type": "execute_result"
    }
   ],
   "source": [
    "child_ds.Lineage.lineage"
   ]
  },
  {
   "cell_type": "code",
   "execution_count": 11,
   "id": "d88b5973",
   "metadata": {},
   "outputs": [
    {
     "name": "stdout",
     "output_type": "stream",
     "text": [
      "[2025-10-31T16:47:44.559854Z] INFO - get_data completed (action=get_data, status=success, duration=444ms)\n",
      "[2025-10-31T16:47:44.560066Z] INFO - get_card_metadata completed (action=get_card_metadata, entity=card:1440955006, status=success, duration=444ms)\n",
      "[{'id': '620160727', 'type': 'USER', 'displayName': 'Isaac Rivas'}]\n",
      "[2025-10-31T16:47:44.868456Z] INFO - get_data completed (action=get_data, status=success, duration=307ms)\n",
      "[2025-10-31T16:47:44.975401Z] INFO - get_data completed (action=get_data, status=success, duration=106ms)\n",
      "[2025-10-31T16:47:44.975574Z] INFO - looper completed (action=looper, status=success, duration=415ms)\n",
      "[2025-10-31T16:47:44.975630Z] INFO - search_users completed (action=search_users, status=success, duration=415ms)\n",
      "[2025-10-31T16:47:44.975684Z] INFO - search_users_by_id completed (action=search_users_by_id, status=success, duration=415ms)\n",
      "[2025-10-31T16:47:44.975729Z] INFO - get_by_id completed (user=620160727, action=get_by_id, status=success, duration=415ms)\n",
      "[2025-10-31T16:47:45.288496Z] INFO - get_data completed (action=get_data, status=success, duration=312ms)\n",
      "[2025-10-31T16:47:45.288774Z] INFO - DomoCard_Default.get_by_id completed (action=DomoCard_Default.get_by_id, status=success, duration=1173ms)\n"
     ]
    }
   ],
   "source": [
    "import domolibrary2.classes.DomoCard as dmdc\n",
    "child_card = await dmdc.DomoCard.get_by_id(\n",
    "        card_id = os.environ[\"CHILD_CARD_ID\"], \n",
    "        auth=child_auth\n",
    "    )"
   ]
  },
  {
   "cell_type": "code",
   "execution_count": 12,
   "id": "c7067dee",
   "metadata": {},
   "outputs": [
    {
     "ename": "KeyError",
     "evalue": "'FederatedDomoCard'",
     "output_type": "error",
     "traceback": [
      "\u001b[31m---------------------------------------------------------------------------\u001b[39m",
      "\u001b[31mKeyError\u001b[39m                                  Traceback (most recent call last)",
      "\u001b[36mCell\u001b[39m\u001b[36m \u001b[39m\u001b[32mIn[12]\u001b[39m\u001b[32m, line 1\u001b[39m\n\u001b[32m----> \u001b[39m\u001b[32m1\u001b[39m \u001b[38;5;28;01mawait\u001b[39;00m child_card.Lineage.get(is_recursive=\u001b[38;5;28;01mTrue\u001b[39;00m)\n",
      "\u001b[36mFile \u001b[39m\u001b[32mC:\\GitHub\\dl2\\src\\domolibrary2\\classes\\subentity\\lineage.py:445\u001b[39m, in \u001b[36mDomoLineage.get\u001b[39m\u001b[34m(self, session, debug_api, return_raw, parent_auth, parent_auth_retrieval_fn, is_recursive)\u001b[39m\n\u001b[32m    433\u001b[39m     \u001b[38;5;28;01mawait\u001b[39;00m \u001b[38;5;28mself\u001b[39m.get_federated_lineage(\n\u001b[32m    434\u001b[39m         parent_auth=parent_auth,\n\u001b[32m    435\u001b[39m         parent_auth_retrieval_fn=parent_auth_retrieval_fn,\n\u001b[32m   (...)\u001b[39m\u001b[32m    438\u001b[39m         return_raw=return_raw,\n\u001b[32m    439\u001b[39m     )\n\u001b[32m    440\u001b[39m \u001b[38;5;66;03m# parent_auth = parent_auth or if parent....\u001b[39;00m\n\u001b[32m    441\u001b[39m \u001b[38;5;66;03m## if its federated do something else\u001b[39;00m\n\u001b[32m    442\u001b[39m \u001b[38;5;66;03m# await self.get_parent_content_details(parent_auth)\u001b[39;00m\n\u001b[32m    443\u001b[39m \n\u001b[32m    444\u001b[39m \u001b[38;5;28;01melse\u001b[39;00m:\n\u001b[32m--> \u001b[39m\u001b[32m445\u001b[39m     \u001b[38;5;28;01mawait\u001b[39;00m \u001b[38;5;28mself\u001b[39m.get_datacenter_lineage(\n\u001b[32m    446\u001b[39m         session=session, debug_api=debug_api, return_raw=return_raw\n\u001b[32m    447\u001b[39m     )\n\u001b[32m    449\u001b[39m \u001b[38;5;28;01mif\u001b[39;00m is_recursive:\n\u001b[32m    450\u001b[39m     \u001b[38;5;66;03m# recursively get lineage for all items in lineage\u001b[39;00m\n\u001b[32m    451\u001b[39m     all_lineage = \u001b[38;5;28;01mawait\u001b[39;00m dmce.gather_with_concurrency(\n\u001b[32m    452\u001b[39m         *[\n\u001b[32m    453\u001b[39m             lin.get(\n\u001b[32m   (...)\u001b[39m\u001b[32m    462\u001b[39m         n=\u001b[32m10\u001b[39m,\n\u001b[32m    463\u001b[39m     )\n",
      "\u001b[36mFile \u001b[39m\u001b[32mC:\\GitHub\\dl2\\src\\domolibrary2\\classes\\subentity\\lineage.py:326\u001b[39m, in \u001b[36mDomoLineage.get_datacenter_lineage\u001b[39m\u001b[34m(self, session, debug_api, return_raw)\u001b[39m\n\u001b[32m    314\u001b[39m \u001b[38;5;250m\u001b[39m\u001b[33;03m\"\"\"queries the datacenter lineage api\"\"\"\u001b[39;00m\n\u001b[32m    316\u001b[39m \u001b[38;5;66;03m# parent_type = (\u001b[39;00m\n\u001b[32m    317\u001b[39m \u001b[38;5;66;03m#     self.parent_type.value\u001b[39;00m\n\u001b[32m    318\u001b[39m \u001b[38;5;66;03m#     if isinstance(self.parent_type, DomoLineage_ParentTypeEnum)\u001b[39;00m\n\u001b[32m   (...)\u001b[39m\u001b[32m    321\u001b[39m \n\u001b[32m    322\u001b[39m \u001b[38;5;66;03m# auth = self.parent.auth if self.parent else self.auth\u001b[39;00m\n\u001b[32m    324\u001b[39m res = \u001b[38;5;28;01mawait\u001b[39;00m datacenter_routes.get_lineage_upstream(\n\u001b[32m    325\u001b[39m     auth=\u001b[38;5;28mself\u001b[39m.parent.auth,\n\u001b[32m--> \u001b[39m\u001b[32m326\u001b[39m     entity_type=\u001b[38;5;28;43mself\u001b[39;49m\u001b[43m.\u001b[49m\u001b[43mparent_type\u001b[49m.value,\n\u001b[32m    327\u001b[39m     entity_id=\u001b[38;5;28mself\u001b[39m.parent.id,\n\u001b[32m    328\u001b[39m     session=session,\n\u001b[32m    329\u001b[39m     debug_api=debug_api,\n\u001b[32m    330\u001b[39m )\n\u001b[32m    332\u001b[39m \u001b[38;5;28;01mif\u001b[39;00m return_raw:\n\u001b[32m    333\u001b[39m     \u001b[38;5;28;01mreturn\u001b[39;00m res\n",
      "\u001b[36mFile \u001b[39m\u001b[32mC:\\GitHub\\dl2\\src\\domolibrary2\\classes\\subentity\\lineage.py:270\u001b[39m, in \u001b[36mDomoLineage.parent_type\u001b[39m\u001b[34m(self)\u001b[39m\n\u001b[32m    268\u001b[39m \u001b[38;5;129m@property\u001b[39m\n\u001b[32m    269\u001b[39m \u001b[38;5;28;01mdef\u001b[39;00m\u001b[38;5;250m \u001b[39m\u001b[34mparent_type\u001b[39m(\u001b[38;5;28mself\u001b[39m) -> DomoLineage_ParentTypeEnum:\n\u001b[32m--> \u001b[39m\u001b[32m270\u001b[39m     \u001b[38;5;28;01mreturn\u001b[39;00m \u001b[43mDomoLineage_ParentTypeEnum\u001b[49m\u001b[43m[\u001b[49m\u001b[38;5;28;43mself\u001b[39;49m\u001b[43m.\u001b[49m\u001b[43mparent\u001b[49m\u001b[43m.\u001b[49m\u001b[34;43m__class__\u001b[39;49m\u001b[43m.\u001b[49m\u001b[34;43m__name__\u001b[39;49m\u001b[43m]\u001b[49m\n",
      "\u001b[36mFile \u001b[39m\u001b[32m~\\AppData\\Local\\Programs\\Python\\Python313\\Lib\\enum.py:793\u001b[39m, in \u001b[36mEnumType.__getitem__\u001b[39m\u001b[34m(cls, name)\u001b[39m\n\u001b[32m    789\u001b[39m \u001b[38;5;28;01mdef\u001b[39;00m\u001b[38;5;250m \u001b[39m\u001b[34m__getitem__\u001b[39m(\u001b[38;5;28mcls\u001b[39m, name):\n\u001b[32m    790\u001b[39m \u001b[38;5;250m    \u001b[39m\u001b[33;03m\"\"\"\u001b[39;00m\n\u001b[32m    791\u001b[39m \u001b[33;03m    Return the member matching `name`.\u001b[39;00m\n\u001b[32m    792\u001b[39m \u001b[33;03m    \"\"\"\u001b[39;00m\n\u001b[32m--> \u001b[39m\u001b[32m793\u001b[39m     \u001b[38;5;28;01mreturn\u001b[39;00m \u001b[38;5;28;43mcls\u001b[39;49m\u001b[43m.\u001b[49m\u001b[43m_member_map_\u001b[49m\u001b[43m[\u001b[49m\u001b[43mname\u001b[49m\u001b[43m]\u001b[49m\n",
      "\u001b[31mKeyError\u001b[39m: 'FederatedDomoCard'"
     ]
    }
   ],
   "source": [
    "await child_card.Lineage.get(is_recursive=True)"
   ]
  },
  {
   "cell_type": "code",
   "execution_count": null,
   "id": "dceba5f6",
   "metadata": {},
   "outputs": [],
   "source": [
    "child_ds.Lineage.parent"
   ]
  }
 ],
 "metadata": {
  "kernelspec": {
   "display_name": "dl2",
   "language": "python",
   "name": "python3"
  },
  "language_info": {
   "codemirror_mode": {
    "name": "ipython",
    "version": 3
   },
   "file_extension": ".py",
   "mimetype": "text/x-python",
   "name": "python",
   "nbconvert_exporter": "python",
   "pygments_lexer": "ipython3",
   "version": "3.13.9"
  }
 },
 "nbformat": 4,
 "nbformat_minor": 5
}
